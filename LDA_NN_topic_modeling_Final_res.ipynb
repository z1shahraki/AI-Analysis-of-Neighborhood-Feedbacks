{
 "cells": [
  {
   "cell_type": "markdown",
   "metadata": {
    "colab_type": "text",
    "id": "jGfB8Iv8VyGG"
   },
   "source": [
    "# Load required packages"
   ]
  },
  {
   "cell_type": "code",
   "execution_count": 4,
   "metadata": {
    "colab": {},
    "colab_type": "code",
    "id": "fD2_QPslVyGK"
   },
   "outputs": [],
   "source": [
    "import warnings\n",
    "warnings.filterwarnings('ignore')\n",
    "import pandas as pd\n",
    "from sklearn.feature_extraction.text import TfidfVectorizer\n",
    "from sklearn.decomposition import LatentDirichletAllocation\n",
    "from sklearn.model_selection import GridSearchCV\n",
    "import pyLDAvis\n",
    "import pyLDAvis.sklearn\n",
    "import spacy\n",
    "nlp = spacy.load(\"en_core_web_sm\")\n",
    "import chardet\n",
    "from nltk.corpus import stopwords\n",
    "\n",
    "import keras\n",
    "from keras.preprocessing.text import one_hot\n",
    "from keras.preprocessing.sequence import pad_sequences\n",
    "from keras.models import Sequential\n",
    "from keras.layers.core import Activation, Dropout, Dense\n",
    "from keras.layers import Flatten, LSTM\n",
    "from keras.layers import GlobalMaxPooling1D\n",
    "from keras.models import Model\n",
    "from keras.layers.embeddings import Embedding\n",
    "from sklearn.model_selection import train_test_split\n",
    "from keras.preprocessing.text import Tokenizer\n",
    "from keras.layers import Input\n",
    "from keras.layers.merge import Concatenate\n",
    "import re\n",
    "import numpy as np"
   ]
  },
  {
   "cell_type": "code",
   "execution_count": 5,
   "metadata": {
    "colab": {},
    "colab_type": "code",
    "id": "mbtHR4dzXUvy"
   },
   "outputs": [],
   "source": [
    "# pip install pyLDAvis"
   ]
  },
  {
   "cell_type": "markdown",
   "metadata": {
    "colab_type": "text",
    "id": "YEPxvM3aVyGY"
   },
   "source": [
    "# Preprocess the dataframe\n"
   ]
  },
  {
   "cell_type": "code",
   "execution_count": 6,
   "metadata": {
    "colab": {
     "base_uri": "https://localhost:8080/",
     "height": 206
    },
    "colab_type": "code",
    "id": "MDUKLCU2VyGd",
    "outputId": "1b027b95-d451-4da9-db8e-6b0a07fbb117"
   },
   "outputs": [
    {
     "data": {
      "text/html": [
       "<div>\n",
       "<style scoped>\n",
       "    .dataframe tbody tr th:only-of-type {\n",
       "        vertical-align: middle;\n",
       "    }\n",
       "\n",
       "    .dataframe tbody tr th {\n",
       "        vertical-align: top;\n",
       "    }\n",
       "\n",
       "    .dataframe thead th {\n",
       "        text-align: right;\n",
       "    }\n",
       "</style>\n",
       "<table border=\"1\" class=\"dataframe\">\n",
       "  <thead>\n",
       "    <tr style=\"text-align: right;\">\n",
       "      <th></th>\n",
       "      <th>Comments</th>\n",
       "    </tr>\n",
       "  </thead>\n",
       "  <tbody>\n",
       "    <tr>\n",
       "      <th>0</th>\n",
       "      <td>its heading in the right direction. completely...</td>\n",
       "    </tr>\n",
       "    <tr>\n",
       "      <th>1</th>\n",
       "      <td>for the environment. extremely small residenti...</td>\n",
       "    </tr>\n",
       "    <tr>\n",
       "      <th>2</th>\n",
       "      <td>to preserving the bushland, commitment to ensu...</td>\n",
       "    </tr>\n",
       "    <tr>\n",
       "      <th>3</th>\n",
       "      <td>N/A. bus service for dont want town houses at ...</td>\n",
       "    </tr>\n",
       "    <tr>\n",
       "      <th>4</th>\n",
       "      <td>there is a strategy, and subsequently a plan.....</td>\n",
       "    </tr>\n",
       "  </tbody>\n",
       "</table>\n",
       "</div>"
      ],
      "text/plain": [
       "                                            Comments\n",
       "0  its heading in the right direction. completely...\n",
       "1  for the environment. extremely small residenti...\n",
       "2  to preserving the bushland, commitment to ensu...\n",
       "3  N/A. bus service for dont want town houses at ...\n",
       "4  there is a strategy, and subsequently a plan....."
      ]
     },
     "execution_count": 6,
     "metadata": {},
     "output_type": "execute_result"
    }
   ],
   "source": [
    "text = pd.read_excel(\"DraftMv1.xlsx\")\n",
    "text = text[['Comments']]\n",
    "text.head()"
   ]
  },
  {
   "cell_type": "code",
   "execution_count": 7,
   "metadata": {
    "colab": {
     "base_uri": "https://localhost:8080/",
     "height": 35
    },
    "colab_type": "code",
    "id": "jf_vN50tVyGn",
    "outputId": "d4eca057-be74-4fd9-c5f9-f6bb3c98dece"
   },
   "outputs": [
    {
     "data": {
      "text/plain": [
       "(308, 1)"
      ]
     },
     "execution_count": 7,
     "metadata": {},
     "output_type": "execute_result"
    }
   ],
   "source": [
    "text.shape"
   ]
  },
  {
   "cell_type": "markdown",
   "metadata": {
    "colab_type": "text",
    "id": "IL_tUTjjVyGw"
   },
   "source": [
    "#### Define a function for removing unwanted characters in the text\n"
   ]
  },
  {
   "cell_type": "code",
   "execution_count": 8,
   "metadata": {
    "colab": {},
    "colab_type": "code",
    "id": "qTKplmDCVyGx"
   },
   "outputs": [],
   "source": [
    "import re\n",
    "def clean_text(doc):\n",
    "    doc = re.sub('[^A-Za-z0-9. /,]', ' ', doc)\n",
    "    doc = re.sub('/', ', ', doc)\n",
    "    doc = re.sub(',', ' ', doc)\n",
    "    doc = re.sub(' +', ' ', doc)\n",
    "    doc = doc.lower()\n",
    "    return doc"
   ]
  },
  {
   "cell_type": "markdown",
   "metadata": {
    "colab_type": "text",
    "id": "uD7H06NTVyHA"
   },
   "source": [
    "#### With lambda expression, remove the unwanted characers and put the results into a new column called \"cleaned_text\""
   ]
  },
  {
   "cell_type": "code",
   "execution_count": 9,
   "metadata": {
    "colab": {
     "base_uri": "https://localhost:8080/",
     "height": 206
    },
    "colab_type": "code",
    "id": "6pthJQ0yVyHB",
    "outputId": "eeb72a6a-c7c6-4d9d-8a95-0f8523bc615d"
   },
   "outputs": [
    {
     "data": {
      "text/html": [
       "<div>\n",
       "<style scoped>\n",
       "    .dataframe tbody tr th:only-of-type {\n",
       "        vertical-align: middle;\n",
       "    }\n",
       "\n",
       "    .dataframe tbody tr th {\n",
       "        vertical-align: top;\n",
       "    }\n",
       "\n",
       "    .dataframe thead th {\n",
       "        text-align: right;\n",
       "    }\n",
       "</style>\n",
       "<table border=\"1\" class=\"dataframe\">\n",
       "  <thead>\n",
       "    <tr style=\"text-align: right;\">\n",
       "      <th></th>\n",
       "      <th>Comments</th>\n",
       "      <th>cleaned_text</th>\n",
       "    </tr>\n",
       "  </thead>\n",
       "  <tbody>\n",
       "    <tr>\n",
       "      <th>0</th>\n",
       "      <td>its heading in the right direction. completely...</td>\n",
       "      <td>its heading in the right direction. completely...</td>\n",
       "    </tr>\n",
       "    <tr>\n",
       "      <th>1</th>\n",
       "      <td>for the environment. extremely small residenti...</td>\n",
       "      <td>for the environment. extremely small residenti...</td>\n",
       "    </tr>\n",
       "    <tr>\n",
       "      <th>2</th>\n",
       "      <td>to preserving the bushland, commitment to ensu...</td>\n",
       "      <td>to preserving the bushland commitment to ensur...</td>\n",
       "    </tr>\n",
       "    <tr>\n",
       "      <th>3</th>\n",
       "      <td>N/A. bus service for dont want town houses at ...</td>\n",
       "      <td>n a. bus service for dont want town houses at ...</td>\n",
       "    </tr>\n",
       "    <tr>\n",
       "      <th>4</th>\n",
       "      <td>there is a strategy, and subsequently a plan.....</td>\n",
       "      <td>there is a strategy and subsequently a plan.. ...</td>\n",
       "    </tr>\n",
       "  </tbody>\n",
       "</table>\n",
       "</div>"
      ],
      "text/plain": [
       "                                            Comments  \\\n",
       "0  its heading in the right direction. completely...   \n",
       "1  for the environment. extremely small residenti...   \n",
       "2  to preserving the bushland, commitment to ensu...   \n",
       "3  N/A. bus service for dont want town houses at ...   \n",
       "4  there is a strategy, and subsequently a plan.....   \n",
       "\n",
       "                                        cleaned_text  \n",
       "0  its heading in the right direction. completely...  \n",
       "1  for the environment. extremely small residenti...  \n",
       "2  to preserving the bushland commitment to ensur...  \n",
       "3  n a. bus service for dont want town houses at ...  \n",
       "4  there is a strategy and subsequently a plan.. ...  "
      ]
     },
     "execution_count": 9,
     "metadata": {},
     "output_type": "execute_result"
    }
   ],
   "source": [
    "text[\"cleaned_text\"] = text[\"Comments\"].apply(lambda x: clean_text(x))\n",
    "text.head()"
   ]
  },
  {
   "cell_type": "markdown",
   "metadata": {
    "colab_type": "text",
    "id": "aAvQLYtBVyHJ"
   },
   "source": [
    "#### Put every sentence in a row of a dataframe and call it \"data\""
   ]
  },
  {
   "cell_type": "code",
   "execution_count": 10,
   "metadata": {
    "colab": {},
    "colab_type": "code",
    "id": "hLP3TYFkVyHL"
   },
   "outputs": [],
   "source": [
    "def sentence_segmentation(text):\n",
    "    final = []\n",
    "    for i in range(len(text[\"cleaned_text\"])):\n",
    "        doc = nlp(text[\"cleaned_text\"][i])\n",
    "        for sent in doc.sents:\n",
    "            content = [None,None].copy()\n",
    "            content[0] = i+1\n",
    "            content[1] = sent.text\n",
    "            final.append(content)\n",
    "    data = pd.DataFrame(final)\n",
    "    data.columns = [\"comment number\", \"sentence\"]\n",
    "    return data"
   ]
  },
  {
   "cell_type": "code",
   "execution_count": 11,
   "metadata": {
    "colab": {
     "base_uri": "https://localhost:8080/",
     "height": 206
    },
    "colab_type": "code",
    "id": "CpntEB5lVyHS",
    "outputId": "b9811adc-5da8-4861-db60-320c32c9fdb3"
   },
   "outputs": [
    {
     "data": {
      "text/html": [
       "<div>\n",
       "<style scoped>\n",
       "    .dataframe tbody tr th:only-of-type {\n",
       "        vertical-align: middle;\n",
       "    }\n",
       "\n",
       "    .dataframe tbody tr th {\n",
       "        vertical-align: top;\n",
       "    }\n",
       "\n",
       "    .dataframe thead th {\n",
       "        text-align: right;\n",
       "    }\n",
       "</style>\n",
       "<table border=\"1\" class=\"dataframe\">\n",
       "  <thead>\n",
       "    <tr style=\"text-align: right;\">\n",
       "      <th></th>\n",
       "      <th>comment number</th>\n",
       "      <th>sentence</th>\n",
       "    </tr>\n",
       "  </thead>\n",
       "  <tbody>\n",
       "    <tr>\n",
       "      <th>0</th>\n",
       "      <td>1</td>\n",
       "      <td>its heading in the right direction.</td>\n",
       "    </tr>\n",
       "    <tr>\n",
       "      <th>1</th>\n",
       "      <td>1</td>\n",
       "      <td>completely understand there are time frames wo...</td>\n",
       "    </tr>\n",
       "    <tr>\n",
       "      <th>2</th>\n",
       "      <td>1</td>\n",
       "      <td>is imperative that there are options for young...</td>\n",
       "    </tr>\n",
       "    <tr>\n",
       "      <th>3</th>\n",
       "      <td>1</td>\n",
       "      <td>lacks infrastructure in these areas.</td>\n",
       "    </tr>\n",
       "    <tr>\n",
       "      <th>4</th>\n",
       "      <td>1</td>\n",
       "      <td>would be good to see a shopping complex and la...</td>\n",
       "    </tr>\n",
       "  </tbody>\n",
       "</table>\n",
       "</div>"
      ],
      "text/plain": [
       "   comment number                                           sentence\n",
       "0               1                its heading in the right direction.\n",
       "1               1  completely understand there are time frames wo...\n",
       "2               1  is imperative that there are options for young...\n",
       "3               1               lacks infrastructure in these areas.\n",
       "4               1  would be good to see a shopping complex and la..."
      ]
     },
     "execution_count": 11,
     "metadata": {},
     "output_type": "execute_result"
    }
   ],
   "source": [
    "data = sentence_segmentation(text)\n",
    "data.head()"
   ]
  },
  {
   "cell_type": "markdown",
   "metadata": {
    "colab_type": "text",
    "id": "vF6nSo8PVyHY"
   },
   "source": [
    "#### Use Term-Frequency Inverse Document Frequency to convert words to vectors on numbers"
   ]
  },
  {
   "cell_type": "code",
   "execution_count": 12,
   "metadata": {
    "colab": {
     "base_uri": "https://localhost:8080/",
     "height": 53
    },
    "colab_type": "code",
    "id": "AWQm_ND3VyHZ",
    "outputId": "3c34e425-c8fd-498f-ee2a-0a78add451fe"
   },
   "outputs": [
    {
     "data": {
      "text/plain": [
       "<1967x144 sparse matrix of type '<class 'numpy.float64'>'\n",
       "\twith 6624 stored elements in Compressed Sparse Row format>"
      ]
     },
     "execution_count": 12,
     "metadata": {},
     "output_type": "execute_result"
    }
   ],
   "source": [
    "tfidf = TfidfVectorizer(max_df=0.85, min_df=0.01, stop_words='english')\n",
    "dtm = tfidf.fit_transform(data['sentence'])\n",
    "dtm"
   ]
  },
  {
   "cell_type": "code",
   "execution_count": 13,
   "metadata": {
    "colab": {},
    "colab_type": "code",
    "id": "-1nMOJavVyHh"
   },
   "outputs": [],
   "source": [
    "LDA = LatentDirichletAllocation() # Create an instance of the function"
   ]
  },
  {
   "cell_type": "markdown",
   "metadata": {
    "colab_type": "text",
    "id": "6jQqHiX-VyHn"
   },
   "source": [
    "#### Use grid search to find the optimum hypter parameters "
   ]
  },
  {
   "cell_type": "code",
   "execution_count": 14,
   "metadata": {
    "colab": {
     "base_uri": "https://localhost:8080/",
     "height": 144
    },
    "colab_type": "code",
    "id": "fsHmkzoQVyHo",
    "outputId": "94cdca36-ec6c-436d-9b07-3004dd052d82"
   },
   "outputs": [
    {
     "data": {
      "text/plain": [
       "LatentDirichletAllocation(learning_decay=0.5, max_iter=150, n_components=4,\n",
       "                          random_state=67)"
      ]
     },
     "execution_count": 14,
     "metadata": {},
     "output_type": "execute_result"
    }
   ],
   "source": [
    "# Fit LDA to the vector of corpus\n",
    "LDA = LatentDirichletAllocation(n_components=4, learning_decay = 0.5, random_state=67, max_iter=150)\n",
    "LDA.fit(dtm)"
   ]
  },
  {
   "cell_type": "markdown",
   "metadata": {
    "colab_type": "text",
    "id": "eFPfRWQiVyHw"
   },
   "source": [
    "#### A function to print the words with the highest probability in each topc"
   ]
  },
  {
   "cell_type": "code",
   "execution_count": 15,
   "metadata": {
    "colab": {},
    "colab_type": "code",
    "id": "LIx-K15xVyHx"
   },
   "outputs": [],
   "source": [
    "def top_words(LDA, n):\n",
    "    for index,topic in enumerate(LDA.components_):\n",
    "        print(f'THE TOP 10 WORDS FOR TOPIC #{index}')\n",
    "        print([tfidf.get_feature_names()[i] for i in topic.argsort()[-n:]])\n",
    "        print('\\n')"
   ]
  },
  {
   "cell_type": "code",
   "execution_count": 16,
   "metadata": {
    "colab": {
     "base_uri": "https://localhost:8080/",
     "height": 308
    },
    "colab_type": "code",
    "id": "wTowOJ9QVyH4",
    "outputId": "7688b03b-98fb-44a2-9a77-54a65a8d07e2"
   },
   "outputs": [
    {
     "name": "stdout",
     "output_type": "stream",
     "text": [
      "THE TOP 10 WORDS FOR TOPIC #0\n",
      "['feel', 'does', 'people', 'suburb', 'new', 'lot', 'plan', 'connection', 'needs', 'access', 'traffic', 'road']\n",
      "\n",
      "\n",
      "THE TOP 10 WORDS FOR TOPIC #1\n",
      "['area', 'school', 'types', 'density', 'infrastructure', 'train', 'land', 'public', 'station', 'transport', 'proforma', 'housing']\n",
      "\n",
      "\n",
      "THE TOP 10 WORDS FOR TOPIC #2\n",
      "['large', 'plan', 'natural', 'future', 'area', 'kedron', 'development', 'bushland', 'strategy', 'community', 'areas', 'rd']\n",
      "\n",
      "\n",
      "THE TOP 10 WORDS FOR TOPIC #3\n",
      "['roads', 'cars', 'don', 'existing', 'like', 'current', 'just', 'need', 'residents', 'local', 'area', 'development']\n",
      "\n",
      "\n"
     ]
    }
   ],
   "source": [
    "top_words(LDA, 12)"
   ]
  },
  {
   "cell_type": "markdown",
   "metadata": {},
   "source": [
    "# Visualize the topic clustering"
   ]
  },
  {
   "cell_type": "code",
   "execution_count": 17,
   "metadata": {},
   "outputs": [
    {
     "data": {
      "text/html": [
       "\n",
       "<link rel=\"stylesheet\" type=\"text/css\" href=\"https://cdn.rawgit.com/bmabey/pyLDAvis/files/ldavis.v1.0.0.css\">\n",
       "\n",
       "\n",
       "<div id=\"ldavis_el1286417991614328488128464589\"></div>\n",
       "<script type=\"text/javascript\">\n",
       "\n",
       "var ldavis_el1286417991614328488128464589_data = {\"mdsDat\": {\"x\": [-0.15633824963388016, -0.215722286057024, 0.2953197440671471, 0.07674079162375695], \"y\": [-0.2830598770200242, 0.23431753929842145, 0.011684125643951689, 0.037058212077651295], \"topics\": [1, 2, 3, 4], \"cluster\": [1, 1, 1, 1], \"Freq\": [26.281372666422147, 24.91691423440926, 24.624672171526072, 24.177040927642516]}, \"tinfo\": {\"Category\": [\"Default\", \"Default\", \"Default\", \"Default\", \"Default\", \"Default\", \"Default\", \"Default\", \"Default\", \"Default\", \"Default\", \"Default\", \"Default\", \"Default\", \"Default\", \"Default\", \"Default\", \"Default\", \"Default\", \"Default\", \"Default\", \"Default\", \"Default\", \"Default\", \"Default\", \"Default\", \"Default\", \"Default\", \"Default\", \"Default\", \"Topic1\", \"Topic1\", \"Topic1\", \"Topic1\", \"Topic1\", \"Topic1\", \"Topic1\", \"Topic1\", \"Topic1\", \"Topic1\", \"Topic1\", \"Topic1\", \"Topic1\", \"Topic1\", \"Topic1\", \"Topic1\", \"Topic1\", \"Topic1\", \"Topic1\", \"Topic1\", \"Topic1\", \"Topic1\", \"Topic1\", \"Topic1\", \"Topic1\", \"Topic1\", \"Topic1\", \"Topic1\", \"Topic1\", \"Topic1\", \"Topic1\", \"Topic1\", \"Topic1\", \"Topic1\", \"Topic1\", \"Topic1\", \"Topic1\", \"Topic2\", \"Topic2\", \"Topic2\", \"Topic2\", \"Topic2\", \"Topic2\", \"Topic2\", \"Topic2\", \"Topic2\", \"Topic2\", \"Topic2\", \"Topic2\", \"Topic2\", \"Topic2\", \"Topic2\", \"Topic2\", \"Topic2\", \"Topic2\", \"Topic2\", \"Topic2\", \"Topic2\", \"Topic2\", \"Topic2\", \"Topic2\", \"Topic2\", \"Topic2\", \"Topic2\", \"Topic2\", \"Topic2\", \"Topic2\", \"Topic2\", \"Topic2\", \"Topic2\", \"Topic2\", \"Topic3\", \"Topic3\", \"Topic3\", \"Topic3\", \"Topic3\", \"Topic3\", \"Topic3\", \"Topic3\", \"Topic3\", \"Topic3\", \"Topic3\", \"Topic3\", \"Topic3\", \"Topic3\", \"Topic3\", \"Topic3\", \"Topic3\", \"Topic3\", \"Topic3\", \"Topic3\", \"Topic3\", \"Topic3\", \"Topic3\", \"Topic3\", \"Topic3\", \"Topic3\", \"Topic3\", \"Topic3\", \"Topic3\", \"Topic3\", \"Topic3\", \"Topic3\", \"Topic3\", \"Topic4\", \"Topic4\", \"Topic4\", \"Topic4\", \"Topic4\", \"Topic4\", \"Topic4\", \"Topic4\", \"Topic4\", \"Topic4\", \"Topic4\", \"Topic4\", \"Topic4\", \"Topic4\", \"Topic4\", \"Topic4\", \"Topic4\", \"Topic4\", \"Topic4\", \"Topic4\", \"Topic4\", \"Topic4\", \"Topic4\", \"Topic4\", \"Topic4\", \"Topic4\", \"Topic4\", \"Topic4\", \"Topic4\", \"Topic4\", \"Topic4\", \"Topic4\", \"Topic4\", \"Topic4\", \"Topic4\"], \"Freq\": [109.0, 56.0, 66.0, 80.0, 49.0, 43.0, 37.0, 36.0, 35.0, 32.0, 33.0, 30.0, 31.0, 29.0, 31.0, 29.0, 29.0, 85.0, 26.0, 38.0, 25.0, 27.0, 24.0, 24.0, 24.0, 23.0, 22.0, 23.0, 21.0, 23.0, 36.27181986221102, 35.37299508746541, 34.687639264330286, 30.90902103013748, 30.909689395307854, 26.305671850234926, 22.48301721967567, 22.785948592556068, 19.742063785368288, 19.32076424636162, 19.226754951354287, 19.001900127895045, 17.68118280936466, 17.734902972060482, 16.243789916059, 15.69090581354445, 14.849638375499687, 14.621864326906444, 13.58179418328058, 13.39812951346489, 13.134442383008482, 12.905489586464974, 12.380526106377856, 12.569399969980411, 12.33514804304503, 12.031089531827261, 11.89556808309986, 11.543787002149008, 10.863778483470103, 10.780856083323085, 15.228396974875556, 15.525311363108504, 26.935956616498974, 15.89219164270082, 25.98362874301332, 21.501568512530067, 14.249814869084364, 55.5123121759139, 48.7349099911022, 42.44094778080689, 32.87209213142809, 30.05683268055988, 28.868907586525744, 26.00892927386629, 24.098170819325997, 20.781087603841993, 20.688216200638564, 18.525977780447725, 18.383855504676077, 18.08492248778612, 17.730853473771937, 17.492011628989815, 14.44941252693983, 13.671729360595409, 13.40638720349868, 13.439364874658656, 12.598599527742829, 12.17559465458261, 12.068532691601428, 11.421414332833287, 11.615486063802718, 11.238842886012462, 10.4569233120663, 25.824186638205074, 8.967412244895616, 11.201892025271206, 8.745464833096593, 9.36572252422304, 19.449391348023624, 9.76496666520217, 13.163101353113959, 108.27446903873611, 29.238636927790136, 28.76539445013478, 22.477723554390078, 20.06691032496112, 19.672554273586133, 18.865822970002142, 17.589644454233348, 17.707704432157193, 17.063063610700787, 17.15380772884886, 16.59217813326337, 16.40353067556682, 15.949662737499041, 14.875768397991077, 14.842118756290791, 14.175203986303659, 12.916929604770814, 12.984660136122452, 11.761735035756793, 11.534684293183055, 11.16898066060688, 60.3603647474336, 60.89402285919242, 8.677292743961567, 7.63779014102069, 8.05701018959642, 9.755728798023185, 20.133239845296806, 5.442932784142206, 27.322581167734068, 13.706824942422747, 10.351020224299518, 32.14762056726963, 24.571836294194586, 23.94006591312217, 23.619888551580086, 21.437434069628257, 20.91100700225055, 19.78022912571632, 19.200218620041277, 18.134999259535814, 18.00091800683283, 17.181411900538965, 17.135151711691606, 16.5888826513931, 15.263470180491655, 15.174698069183423, 14.09182499151639, 13.682910526674394, 12.596599599059166, 12.115074673754773, 12.059492901144525, 11.73248712260556, 11.131588048749608, 11.032769085539986, 10.705628386026863, 10.319358967998596, 10.257261969330974, 10.20345393598736, 13.824747320375222, 30.278212616472207, 21.104414635278214, 45.19756009429574, 35.92273014307981, 19.318991678622382, 18.903249099839663, 16.341226610063522], \"Term\": [\"road\", \"housing\", \"access\", \"traffic\", \"proforma\", \"transport\", \"rd\", \"areas\", \"community\", \"local\", \"station\", \"public\", \"bushland\", \"needs\", \"strategy\", \"connection\", \"land\", \"development\", \"train\", \"residents\", \"need\", \"kedron\", \"just\", \"current\", \"density\", \"lot\", \"like\", \"future\", \"don\", \"natural\", \"rd\", \"areas\", \"community\", \"bushland\", \"strategy\", \"kedron\", \"natural\", \"future\", \"large\", \"options\", \"lots\", \"provide\", \"edge\", \"time\", \"site\", \"urban\", \"suburbs\", \"feedback\", \"draft\", \"residential\", \"document\", \"blocks\", \"environment\", \"planned\", \"gap\", \"north\", \"concerned\", \"trees\", \"upper\", \"parks\", \"congestion\", \"grove\", \"development\", \"south\", \"area\", \"plan\", \"way\", \"housing\", \"proforma\", \"transport\", \"station\", \"public\", \"land\", \"train\", \"density\", \"types\", \"school\", \"connections\", \"high\", \"parking\", \"schools\", \"bus\", \"upgrades\", \"centre\", \"shopping\", \"developments\", \"shops\", \"peak\", \"times\", \"capacity\", \"near\", \"needed\", \"population\", \"infrastructure\", \"currently\", \"support\", \"creek\", \"service\", \"area\", \"increase\", \"development\", \"road\", \"needs\", \"connection\", \"lot\", \"suburb\", \"people\", \"does\", \"vehicles\", \"feel\", \"make\", \"allow\", \"sizes\", \"council\", \"years\", \"emergency\", \"good\", \"major\", \"exit\", \"issues\", \"developers\", \"hope\", \"use\", \"access\", \"traffic\", \"issue\", \"considered\", \"better\", \"additional\", \"new\", \"route\", \"plan\", \"area\", \"roads\", \"local\", \"need\", \"just\", \"current\", \"like\", \"don\", \"cars\", \"corridor\", \"space\", \"planning\", \"going\", \"park\", \"comments\", \"environmental\", \"bcc\", \"living\", \"neighbourhood\", \"concerns\", \"number\", \"car\", \"think\", \"link\", \"place\", \"clearly\", \"streets\", \"extra\", \"impact\", \"houses\", \"residents\", \"existing\", \"development\", \"area\", \"roads\", \"traffic\", \"plan\"], \"Total\": [109.0, 56.0, 66.0, 80.0, 49.0, 43.0, 37.0, 36.0, 35.0, 32.0, 33.0, 30.0, 31.0, 29.0, 31.0, 29.0, 29.0, 85.0, 26.0, 38.0, 25.0, 27.0, 24.0, 24.0, 24.0, 23.0, 22.0, 23.0, 21.0, 23.0, 37.01619361480583, 36.126496991616285, 35.43026143524287, 31.64157274759107, 31.65298195780352, 27.051532180112783, 23.219413178854733, 23.537652288329447, 20.491265301752236, 20.062238435279166, 19.97236457778061, 19.75616422177448, 18.41679809401599, 18.47822825532085, 16.983219325915258, 16.428337834867065, 15.590903852822418, 15.35550588656117, 14.329936723020557, 14.146000366224515, 13.869561770988406, 13.639659998537262, 13.115075354007798, 13.322289447172215, 13.085572525592179, 12.765895350657571, 12.638070122893154, 12.277236119728649, 11.602524830931001, 11.51897687788787, 20.31901997186133, 23.61132317451671, 85.54958982971422, 26.122872087089785, 95.0625751765395, 65.41218317477663, 21.17040432090121, 56.253385746231615, 49.46126449506368, 43.17780357215989, 33.60436854101782, 30.803115623865846, 29.61488997057876, 26.73307069072299, 24.829963198773058, 21.50965757056401, 21.423853804077442, 19.258044718475364, 19.12154660876973, 18.817127501851893, 18.469015627227186, 18.220927543825752, 15.178351082647707, 14.403200389543349, 14.13196739641835, 14.185198148665634, 13.329975055180714, 12.910633549230498, 12.797164100070285, 12.145266788964364, 12.353416352944972, 11.979521447801039, 11.199688817792044, 31.797659945896257, 11.113645755221388, 16.140857804557953, 12.652911787757168, 14.47108201622303, 95.0625751765395, 16.52883331543068, 85.54958982971422, 109.02288353958991, 29.976526098090243, 29.49698885584447, 23.231752954397372, 20.80352396871975, 20.408382452180984, 19.60280737336566, 18.31540693050668, 18.44416863760011, 17.80058008951788, 17.897551488378213, 17.3323860038374, 17.147810979880937, 16.683659267908574, 15.602757210514396, 15.585552128391882, 14.917420669016664, 13.646411833112595, 13.71898537098944, 12.497689593104445, 12.267136796959171, 11.923035463942478, 66.51403344018621, 80.29608499471371, 12.826535345835678, 11.472862331940267, 12.920170321935739, 17.076262944063814, 37.759011976268006, 10.734226036343363, 65.41218317477663, 95.0625751765395, 37.16133676069112, 32.888991821801056, 25.309565481131802, 24.680412866040434, 24.35116095611201, 22.171484044900783, 21.63818131140707, 20.512255925217836, 19.927621188031644, 18.864115570173414, 18.730658078068487, 17.905243146408647, 17.86779745313006, 17.317208508897984, 15.992630413497988, 15.905392921057642, 14.822635525123196, 14.412418058729182, 13.32115069265806, 12.847719200902052, 12.793689524801918, 12.459006762610427, 11.865515703445515, 11.767947508275698, 11.436460654290395, 11.046478495222601, 10.984064871965577, 10.931395530375017, 17.47887402064915, 38.80806227798067, 27.31255093732931, 85.54958982971422, 95.0625751765395, 37.16133676069112, 80.29608499471371, 65.41218317477663], \"loglift\": [30.0, 29.0, 28.0, 27.0, 26.0, 25.0, 24.0, 23.0, 22.0, 21.0, 20.0, 19.0, 18.0, 17.0, 16.0, 15.0, 14.0, 13.0, 12.0, 11.0, 10.0, 9.0, 8.0, 7.0, 6.0, 5.0, 4.0, 3.0, 2.0, 1.0, 1.316, 1.3152, 1.3151, 1.3129, 1.3125, 1.3084, 1.3041, 1.3039, 1.2991, 1.2987, 1.2983, 1.2974, 1.2955, 1.2953, 1.2918, 1.2904, 1.2876, 1.2874, 1.2827, 1.282, 1.2819, 1.281, 1.2787, 1.2781, 1.2773, 1.277, 1.2758, 1.2747, 1.2705, 1.2701, 1.0479, 0.9171, 0.1807, 0.8393, 0.0392, 0.2237, 0.9404, 1.3764, 1.3748, 1.3724, 1.3676, 1.3651, 1.3641, 1.3622, 1.3597, 1.3552, 1.3547, 1.3509, 1.3503, 1.3499, 1.3488, 1.3488, 1.3404, 1.3375, 1.3369, 1.3356, 1.3332, 1.331, 1.331, 1.3282, 1.328, 1.3258, 1.321, 1.1815, 1.175, 1.0244, 1.0203, 0.9545, -0.1971, 0.8633, -0.4821, 1.3945, 1.3765, 1.3763, 1.3684, 1.3654, 1.3647, 1.3631, 1.361, 1.3607, 1.3591, 1.359, 1.3578, 1.357, 1.3564, 1.3537, 1.3525, 1.3504, 1.3465, 1.3464, 1.3407, 1.3399, 1.3361, 1.3043, 1.1248, 1.0106, 0.9945, 0.9292, 0.8416, 0.7726, 0.7223, 0.5284, -0.5352, 0.1232, 1.397, 1.3902, 1.3893, 1.3893, 1.3861, 1.3856, 1.3834, 1.3826, 1.3803, 1.38, 1.3785, 1.3779, 1.3768, 1.3731, 1.3727, 1.3692, 1.3678, 1.3638, 1.3611, 1.3607, 1.3597, 1.3559, 1.3553, 1.3537, 1.3517, 1.3513, 1.3509, 1.1852, 1.1716, 1.1619, 0.7817, 0.4466, 0.7656, -0.0266, 0.0327], \"logprob\": [30.0, 29.0, 28.0, 27.0, 26.0, 25.0, 24.0, 23.0, 22.0, 21.0, 20.0, 19.0, 18.0, 17.0, 16.0, 15.0, 14.0, 13.0, 12.0, 11.0, 10.0, 9.0, 8.0, 7.0, 6.0, 5.0, 4.0, 3.0, 2.0, 1.0, -3.1165, -3.1416, -3.1611, -3.2765, -3.2765, -3.4377, -3.5948, -3.5814, -3.7248, -3.7463, -3.7512, -3.763, -3.835, -3.832, -3.9198, -3.9544, -4.0096, -4.025, -4.0988, -4.1124, -4.1323, -4.1499, -4.1914, -4.1763, -4.1951, -4.22, -4.2314, -4.2614, -4.3221, -4.3298, -3.9844, -3.9651, -3.4141, -3.9417, -3.4501, -3.6394, -4.0508, -2.6376, -2.7678, -2.9061, -3.1616, -3.2511, -3.2914, -3.3958, -3.4721, -3.6202, -3.6246, -3.735, -3.7427, -3.7591, -3.7789, -3.7925, -3.9836, -4.0389, -4.0585, -4.056, -4.1206, -4.1548, -4.1636, -4.2187, -4.2019, -4.2348, -4.3069, -3.4029, -4.4606, -4.2381, -4.4857, -4.4172, -3.6864, -4.3754, -4.0768, -1.9577, -3.2669, -3.2832, -3.5299, -3.6433, -3.6632, -3.7051, -3.7751, -3.7684, -3.8055, -3.8002, -3.8335, -3.8449, -3.873, -3.9427, -3.9449, -3.9909, -4.0839, -4.0786, -4.1776, -4.1971, -4.2293, -2.5421, -2.5333, -4.4817, -4.6093, -4.5559, -4.3646, -3.64, -4.9481, -3.3347, -4.0245, -4.3053, -3.1537, -3.4225, -3.4485, -3.462, -3.5589, -3.5838, -3.6394, -3.6691, -3.7262, -3.7336, -3.7802, -3.7829, -3.8153, -3.8986, -3.9044, -3.9785, -4.0079, -4.0906, -4.1296, -4.1342, -4.1617, -4.2143, -4.2232, -4.2533, -4.29, -4.2961, -4.3013, -3.9976, -3.2136, -3.5746, -2.813, -3.0427, -3.663, -3.6847, -3.8304]}, \"token.table\": {\"Topic\": [1, 3, 2, 3, 4, 3, 1, 2, 3, 4, 1, 4, 2, 3, 1, 2, 1, 2, 4, 4, 2, 4, 4, 1, 1, 4, 1, 2, 3, 2, 3, 4, 4, 3, 2, 4, 4, 2, 4, 2, 3, 1, 2, 4, 2, 1, 3, 4, 1, 1, 3, 1, 4, 2, 4, 3, 4, 1, 3, 1, 1, 4, 3, 1, 2, 2, 3, 1, 4, 2, 4, 1, 2, 2, 4, 3, 4, 3, 4, 1, 2, 1, 4, 4, 4, 4, 3, 1, 3, 3, 1, 2, 4, 2, 3, 4, 2, 3, 4, 1, 4, 1, 4, 2, 1, 2, 3, 4, 1, 3, 4, 1, 4, 2, 2, 1, 2, 1, 1, 3, 4, 3, 2, 3, 4, 1, 3, 2, 2, 2, 3, 2, 2, 1, 3, 1, 2, 4, 2, 1, 4, 3, 1, 2, 4, 4, 1, 2, 3, 4, 2, 2, 1, 2, 2, 1, 1, 3, 3, 1, 2, 3], \"Freq\": [0.0902065277005881, 0.9020652770058809, 0.29280411155405284, 0.5856082231081057, 0.11712164462162114, 0.9498505988955507, 0.27350405721405857, 0.19986834950258126, 0.1472714154229546, 0.3786979253733118, 0.9688179844318228, 0.94307635620501, 0.30959344190756055, 0.6191868838151211, 0.9531029366856755, 0.9329931178920983, 0.9797237402606698, 0.9057026240045221, 0.9379624209839338, 0.9750268362931224, 0.9720061945513117, 0.961836037609533, 0.98168246869956, 0.9878561032909883, 0.9495120602521958, 0.9758916703168097, 0.7382245807510726, 0.24607486025035752, 0.9831512003386746, 0.9866006792357374, 0.6972976549825868, 0.26148662061847006, 0.9534504806530162, 0.9330637023450029, 0.7112987232479018, 0.23709957441596727, 0.9855792930470582, 0.8098152665853724, 0.17995894813008276, 0.9665741269075232, 0.9601774720521908, 0.3156064225876861, 0.15195864791258962, 0.5260107043128102, 0.9164482486431025, 0.9373043081427916, 0.9692489263458919, 0.9705067028405646, 0.9769757027265498, 0.9773685907893285, 0.9613685451627607, 0.9149775869440929, 0.9379320106928629, 0.21967922416941021, 0.7688772845929357, 0.9526313699881095, 0.9104097723897109, 0.9768483116617928, 0.9759182077366918, 0.9771577776006136, 0.9170405021661021, 0.9494425661239783, 0.9624298116891737, 0.677640972585074, 0.338820486292537, 0.9413464490233571, 0.9782233783334519, 0.17163576992750604, 0.8009669263283615, 0.9954956356338323, 0.9147962830741095, 0.3630020271544896, 0.605003378590816, 0.8176702324711637, 0.15724427547522377, 0.7016703854421593, 0.3118535046409597, 0.9475919427314335, 0.9724310581944655, 0.9611285537132781, 0.9792371347254835, 0.9760256238686136, 0.947162578629002, 0.9270562085056121, 0.944501399651304, 0.9729699278525232, 0.946979767010469, 0.9513144988920155, 0.938500047067645, 0.9550250561784044, 0.9474830320016348, 0.9713912052465778, 0.9877688346185721, 0.9182336746864926, 0.9674236402545505, 0.9713845340144437, 0.21186995054394156, 0.5296748763598539, 0.26483743817992694, 0.9400045723688217, 0.9340179227420745, 0.9470528456380404, 0.9514323208886588, 0.9565753326711808, 0.9549459224209303, 0.9294663932828631, 0.9799894747593119, 0.9347424427466517, 0.33632878360316437, 0.4127671435129745, 0.24460275171139229, 0.9758082536451252, 0.9609913290273551, 0.8928819508015085, 0.9906742276047206, 0.9617251500197055, 0.973927454817473, 0.9725473227911967, 0.9189876759115074, 0.20614273247389436, 0.7730352467771039, 0.9906177170665417, 0.18836782016422315, 0.2690968859488902, 0.5112840833028914, 0.465799768243306, 0.465799768243306, 0.9802158002031934, 0.9746052720570684, 0.6219299973499156, 0.34551666519439755, 0.9199002258733459, 0.9752456359584507, 0.9421064224016156, 0.9808228362924869, 0.6124900794467917, 0.38280629965424484, 0.9541926274275115, 0.9820151793574065, 0.979370602154514, 0.9052658731309544, 0.9613755837747522, 0.9620994486015353, 0.6815003349384413, 0.24781830361397866, 0.9631586392594385, 0.9741193663855113, 0.9377077535431536, 0.7596883460011273, 0.23662423891838394, 0.9725781336830347, 0.9727220128232898, 0.9774186863374608, 0.9763056399716248, 0.9223663310835636, 0.9480695073088972, 0.973926891498544, 0.9225838531862198, 0.9827791469933803, 0.6613005490017032, 0.28341452100072995, 0.9590222230668778], \"Term\": [\"access\", \"access\", \"additional\", \"additional\", \"additional\", \"allow\", \"area\", \"area\", \"area\", \"area\", \"areas\", \"bcc\", \"better\", \"better\", \"blocks\", \"bus\", \"bushland\", \"capacity\", \"car\", \"cars\", \"centre\", \"clearly\", \"comments\", \"community\", \"concerned\", \"concerns\", \"congestion\", \"congestion\", \"connection\", \"connections\", \"considered\", \"considered\", \"corridor\", \"council\", \"creek\", \"creek\", \"current\", \"currently\", \"currently\", \"density\", \"developers\", \"development\", \"development\", \"development\", \"developments\", \"document\", \"does\", \"don\", \"draft\", \"edge\", \"emergency\", \"environment\", \"environmental\", \"existing\", \"existing\", \"exit\", \"extra\", \"feedback\", \"feel\", \"future\", \"gap\", \"going\", \"good\", \"grove\", \"grove\", \"high\", \"hope\", \"houses\", \"houses\", \"housing\", \"impact\", \"increase\", \"increase\", \"infrastructure\", \"infrastructure\", \"issue\", \"issue\", \"issues\", \"just\", \"kedron\", \"land\", \"large\", \"like\", \"link\", \"living\", \"local\", \"lot\", \"lots\", \"major\", \"make\", \"natural\", \"near\", \"need\", \"needed\", \"needs\", \"neighbourhood\", \"new\", \"new\", \"new\", \"north\", \"number\", \"options\", \"park\", \"parking\", \"parks\", \"peak\", \"people\", \"place\", \"plan\", \"plan\", \"plan\", \"planned\", \"planning\", \"population\", \"proforma\", \"provide\", \"public\", \"rd\", \"residential\", \"residents\", \"residents\", \"road\", \"roads\", \"roads\", \"roads\", \"route\", \"route\", \"school\", \"schools\", \"service\", \"service\", \"shopping\", \"shops\", \"site\", \"sizes\", \"south\", \"south\", \"space\", \"station\", \"strategy\", \"streets\", \"suburb\", \"suburbs\", \"support\", \"support\", \"think\", \"time\", \"times\", \"traffic\", \"traffic\", \"train\", \"transport\", \"trees\", \"types\", \"upgrades\", \"upper\", \"urban\", \"use\", \"vehicles\", \"way\", \"way\", \"years\"]}, \"R\": 30, \"lambda.step\": 0.01, \"plot.opts\": {\"xlab\": \"PC1\", \"ylab\": \"PC2\"}, \"topic.order\": [3, 2, 1, 4]};\n",
       "\n",
       "function LDAvis_load_lib(url, callback){\n",
       "  var s = document.createElement('script');\n",
       "  s.src = url;\n",
       "  s.async = true;\n",
       "  s.onreadystatechange = s.onload = callback;\n",
       "  s.onerror = function(){console.warn(\"failed to load library \" + url);};\n",
       "  document.getElementsByTagName(\"head\")[0].appendChild(s);\n",
       "}\n",
       "\n",
       "if(typeof(LDAvis) !== \"undefined\"){\n",
       "   // already loaded: just create the visualization\n",
       "   !function(LDAvis){\n",
       "       new LDAvis(\"#\" + \"ldavis_el1286417991614328488128464589\", ldavis_el1286417991614328488128464589_data);\n",
       "   }(LDAvis);\n",
       "}else if(typeof define === \"function\" && define.amd){\n",
       "   // require.js is available: use it to load d3/LDAvis\n",
       "   require.config({paths: {d3: \"https://cdnjs.cloudflare.com/ajax/libs/d3/3.5.5/d3.min\"}});\n",
       "   require([\"d3\"], function(d3){\n",
       "      window.d3 = d3;\n",
       "      LDAvis_load_lib(\"https://cdn.rawgit.com/bmabey/pyLDAvis/files/ldavis.v1.0.0.js\", function(){\n",
       "        new LDAvis(\"#\" + \"ldavis_el1286417991614328488128464589\", ldavis_el1286417991614328488128464589_data);\n",
       "      });\n",
       "    });\n",
       "}else{\n",
       "    // require.js not available: dynamically load d3 & LDAvis\n",
       "    LDAvis_load_lib(\"https://cdnjs.cloudflare.com/ajax/libs/d3/3.5.5/d3.min.js\", function(){\n",
       "         LDAvis_load_lib(\"https://cdn.rawgit.com/bmabey/pyLDAvis/files/ldavis.v1.0.0.js\", function(){\n",
       "                 new LDAvis(\"#\" + \"ldavis_el1286417991614328488128464589\", ldavis_el1286417991614328488128464589_data);\n",
       "            })\n",
       "         });\n",
       "}\n",
       "</script>"
      ],
      "text/plain": [
       "PreparedData(topic_coordinates=              x         y  topics  cluster       Freq\n",
       "topic                                                \n",
       "2     -0.156338 -0.283060       1        1  26.281373\n",
       "1     -0.215722  0.234318       2        1  24.916914\n",
       "0      0.295320  0.011684       3        1  24.624672\n",
       "3      0.076741  0.037058       4        1  24.177041, topic_info=    Category        Freq         Term       Total  loglift  logprob\n",
       "106  Default  109.000000         road  109.000000  30.0000  30.0000\n",
       "58   Default   56.000000      housing   56.000000  29.0000  29.0000\n",
       "0    Default   66.000000       access   66.000000  28.0000  28.0000\n",
       "131  Default   80.000000      traffic   80.000000  27.0000  27.0000\n",
       "98   Default   49.000000     proforma   49.000000  26.0000  26.0000\n",
       "..       ...         ...          ...         ...      ...      ...\n",
       "33    Topic4   45.197560  development   85.549590   0.7817  -2.8130\n",
       "3     Topic4   35.922730         area   95.062575   0.4466  -3.0427\n",
       "107   Topic4   19.318992        roads   37.161337   0.7656  -3.6630\n",
       "131   Topic4   18.903249      traffic   80.296085  -0.0266  -3.6847\n",
       "94    Topic4   16.341227         plan   65.412183   0.0327  -3.8304\n",
       "\n",
       "[169 rows x 6 columns], token_table=      Topic      Freq        Term\n",
       "term                             \n",
       "0         1  0.090207      access\n",
       "0         3  0.902065      access\n",
       "1         2  0.292804  additional\n",
       "1         3  0.585608  additional\n",
       "1         4  0.117122  additional\n",
       "...     ...       ...         ...\n",
       "140       3  0.922584         use\n",
       "141       3  0.982779    vehicles\n",
       "142       1  0.661301         way\n",
       "142       2  0.283415         way\n",
       "143       3  0.959022       years\n",
       "\n",
       "[162 rows x 3 columns], R=30, lambda_step=0.01, plot_opts={'xlab': 'PC1', 'ylab': 'PC2'}, topic_order=[3, 2, 1, 4])"
      ]
     },
     "execution_count": 17,
     "metadata": {},
     "output_type": "execute_result"
    }
   ],
   "source": [
    "pyLDAvis.enable_notebook()\n",
    "pane = pyLDAvis.sklearn.prepare(LDA, dtm, tfidf)\n",
    "pyLDAvis.save_html(pane, 'output_filename.html')\n",
    "pane"
   ]
  },
  {
   "cell_type": "markdown",
   "metadata": {
    "colab_type": "text",
    "id": "6wK3M0tDVyH9"
   },
   "source": [
    "#### Based on the words we can determine the topic for title every sentence"
   ]
  },
  {
   "cell_type": "code",
   "execution_count": 18,
   "metadata": {
    "colab": {},
    "colab_type": "code",
    "id": "NO0LX0psVyH_"
   },
   "outputs": [],
   "source": [
    "topic_results = LDA.transform(dtm)\n",
    "data['topic'] = topic_results.argmax(axis=1)\n",
    "data['Development'] = 0\n",
    "data['Transport'] = 0\n",
    "data['Surroundings'] = 0\n",
    "data['Hospitality'] = 0\n",
    "data.reset_index(inplace = True)\n",
    "\n",
    "\n",
    "for i in range(len(data)):\n",
    "    if data['topic'][i] == 0:\n",
    "        data['Surroundings'][i] = 1\n",
    "    if data['topic'][i] == 1:\n",
    "        data['Hospitality'][i] = 1\n",
    "    if data['topic'][i] == 2:\n",
    "        data['Development'][i] = 1\n",
    "    if data['topic'][i] == 3:\n",
    "        data['Transport'][i] = 1"
   ]
  },
  {
   "cell_type": "code",
   "execution_count": 19,
   "metadata": {
    "colab": {
     "base_uri": "https://localhost:8080/",
     "height": 363
    },
    "colab_type": "code",
    "id": "CNtzG5V5VyIG",
    "outputId": "0fa4d3dc-3104-40a8-81bd-5d2264f6f7ab"
   },
   "outputs": [
    {
     "data": {
      "text/html": [
       "<div>\n",
       "<style scoped>\n",
       "    .dataframe tbody tr th:only-of-type {\n",
       "        vertical-align: middle;\n",
       "    }\n",
       "\n",
       "    .dataframe tbody tr th {\n",
       "        vertical-align: top;\n",
       "    }\n",
       "\n",
       "    .dataframe thead th {\n",
       "        text-align: right;\n",
       "    }\n",
       "</style>\n",
       "<table border=\"1\" class=\"dataframe\">\n",
       "  <thead>\n",
       "    <tr style=\"text-align: right;\">\n",
       "      <th></th>\n",
       "      <th>index</th>\n",
       "      <th>comment number</th>\n",
       "      <th>sentence</th>\n",
       "      <th>topic</th>\n",
       "      <th>Development</th>\n",
       "      <th>Transport</th>\n",
       "      <th>Surroundings</th>\n",
       "      <th>Hospitality</th>\n",
       "    </tr>\n",
       "  </thead>\n",
       "  <tbody>\n",
       "    <tr>\n",
       "      <th>0</th>\n",
       "      <td>0</td>\n",
       "      <td>1</td>\n",
       "      <td>its heading in the right direction.</td>\n",
       "      <td>0</td>\n",
       "      <td>0</td>\n",
       "      <td>0</td>\n",
       "      <td>1</td>\n",
       "      <td>0</td>\n",
       "    </tr>\n",
       "    <tr>\n",
       "      <th>1</th>\n",
       "      <td>1</td>\n",
       "      <td>1</td>\n",
       "      <td>completely understand there are time frames wo...</td>\n",
       "      <td>3</td>\n",
       "      <td>0</td>\n",
       "      <td>1</td>\n",
       "      <td>0</td>\n",
       "      <td>0</td>\n",
       "    </tr>\n",
       "    <tr>\n",
       "      <th>2</th>\n",
       "      <td>2</td>\n",
       "      <td>1</td>\n",
       "      <td>is imperative that there are options for young...</td>\n",
       "      <td>2</td>\n",
       "      <td>1</td>\n",
       "      <td>0</td>\n",
       "      <td>0</td>\n",
       "      <td>0</td>\n",
       "    </tr>\n",
       "    <tr>\n",
       "      <th>3</th>\n",
       "      <td>3</td>\n",
       "      <td>1</td>\n",
       "      <td>lacks infrastructure in these areas.</td>\n",
       "      <td>1</td>\n",
       "      <td>0</td>\n",
       "      <td>0</td>\n",
       "      <td>0</td>\n",
       "      <td>1</td>\n",
       "    </tr>\n",
       "    <tr>\n",
       "      <th>4</th>\n",
       "      <td>4</td>\n",
       "      <td>1</td>\n",
       "      <td>would be good to see a shopping complex and la...</td>\n",
       "      <td>1</td>\n",
       "      <td>0</td>\n",
       "      <td>0</td>\n",
       "      <td>0</td>\n",
       "      <td>1</td>\n",
       "    </tr>\n",
       "    <tr>\n",
       "      <th>5</th>\n",
       "      <td>5</td>\n",
       "      <td>1</td>\n",
       "      <td>of green space linked to the natural bushland ...</td>\n",
       "      <td>2</td>\n",
       "      <td>1</td>\n",
       "      <td>0</td>\n",
       "      <td>0</td>\n",
       "      <td>0</td>\n",
       "    </tr>\n",
       "    <tr>\n",
       "      <th>6</th>\n",
       "      <td>6</td>\n",
       "      <td>1</td>\n",
       "      <td>much looking forward to the changes about to h...</td>\n",
       "      <td>0</td>\n",
       "      <td>0</td>\n",
       "      <td>0</td>\n",
       "      <td>1</td>\n",
       "      <td>0</td>\n",
       "    </tr>\n",
       "    <tr>\n",
       "      <th>7</th>\n",
       "      <td>7</td>\n",
       "      <td>2</td>\n",
       "      <td>for the environment.</td>\n",
       "      <td>2</td>\n",
       "      <td>1</td>\n",
       "      <td>0</td>\n",
       "      <td>0</td>\n",
       "      <td>0</td>\n",
       "    </tr>\n",
       "    <tr>\n",
       "      <th>8</th>\n",
       "      <td>8</td>\n",
       "      <td>2</td>\n",
       "      <td>extremely small residential blocks narrow stre...</td>\n",
       "      <td>2</td>\n",
       "      <td>1</td>\n",
       "      <td>0</td>\n",
       "      <td>0</td>\n",
       "      <td>0</td>\n",
       "    </tr>\n",
       "    <tr>\n",
       "      <th>9</th>\n",
       "      <td>9</td>\n",
       "      <td>2</td>\n",
       "      <td>should also be full access to road is already ...</td>\n",
       "      <td>0</td>\n",
       "      <td>0</td>\n",
       "      <td>0</td>\n",
       "      <td>1</td>\n",
       "      <td>0</td>\n",
       "    </tr>\n",
       "  </tbody>\n",
       "</table>\n",
       "</div>"
      ],
      "text/plain": [
       "   index  comment number                                           sentence  \\\n",
       "0      0               1                its heading in the right direction.   \n",
       "1      1               1  completely understand there are time frames wo...   \n",
       "2      2               1  is imperative that there are options for young...   \n",
       "3      3               1               lacks infrastructure in these areas.   \n",
       "4      4               1  would be good to see a shopping complex and la...   \n",
       "5      5               1  of green space linked to the natural bushland ...   \n",
       "6      6               1  much looking forward to the changes about to h...   \n",
       "7      7               2                               for the environment.   \n",
       "8      8               2  extremely small residential blocks narrow stre...   \n",
       "9      9               2  should also be full access to road is already ...   \n",
       "\n",
       "   topic  Development  Transport  Surroundings  Hospitality  \n",
       "0      0            0          0             1            0  \n",
       "1      3            0          1             0            0  \n",
       "2      2            1          0             0            0  \n",
       "3      1            0          0             0            1  \n",
       "4      1            0          0             0            1  \n",
       "5      2            1          0             0            0  \n",
       "6      0            0          0             1            0  \n",
       "7      2            1          0             0            0  \n",
       "8      2            1          0             0            0  \n",
       "9      0            0          0             1            0  "
      ]
     },
     "execution_count": 19,
     "metadata": {},
     "output_type": "execute_result"
    }
   ],
   "source": [
    "data.to_csv(\"results.csv\", index = False)\n",
    "data.head(10)"
   ]
  },
  {
   "cell_type": "markdown",
   "metadata": {
    "colab_type": "text",
    "id": "OUMMpL0lVyIN"
   },
   "source": [
    "# Preprocess for Neural Networks"
   ]
  },
  {
   "cell_type": "markdown",
   "metadata": {
    "colab_type": "text",
    "id": "FTYFtr-aVyIN"
   },
   "source": [
    "#### Remove stop words from sentences"
   ]
  },
  {
   "cell_type": "code",
   "execution_count": 20,
   "metadata": {
    "colab": {
     "base_uri": "https://localhost:8080/",
     "height": 206
    },
    "colab_type": "code",
    "id": "HlsZkSWvVyIP",
    "outputId": "f9ec0d08-44c3-40ed-a4ed-6c5fb3b05e12"
   },
   "outputs": [
    {
     "data": {
      "text/html": [
       "<div>\n",
       "<style scoped>\n",
       "    .dataframe tbody tr th:only-of-type {\n",
       "        vertical-align: middle;\n",
       "    }\n",
       "\n",
       "    .dataframe tbody tr th {\n",
       "        vertical-align: top;\n",
       "    }\n",
       "\n",
       "    .dataframe thead th {\n",
       "        text-align: right;\n",
       "    }\n",
       "</style>\n",
       "<table border=\"1\" class=\"dataframe\">\n",
       "  <thead>\n",
       "    <tr style=\"text-align: right;\">\n",
       "      <th></th>\n",
       "      <th>index</th>\n",
       "      <th>comment number</th>\n",
       "      <th>sentence</th>\n",
       "      <th>topic</th>\n",
       "      <th>Development</th>\n",
       "      <th>Transport</th>\n",
       "      <th>Surroundings</th>\n",
       "      <th>Hospitality</th>\n",
       "    </tr>\n",
       "  </thead>\n",
       "  <tbody>\n",
       "    <tr>\n",
       "      <th>0</th>\n",
       "      <td>0</td>\n",
       "      <td>1</td>\n",
       "      <td>its heading in the right direction.</td>\n",
       "      <td>0</td>\n",
       "      <td>0</td>\n",
       "      <td>0</td>\n",
       "      <td>1</td>\n",
       "      <td>0</td>\n",
       "    </tr>\n",
       "    <tr>\n",
       "      <th>1</th>\n",
       "      <td>1</td>\n",
       "      <td>1</td>\n",
       "      <td>completely understand there are time frames wo...</td>\n",
       "      <td>3</td>\n",
       "      <td>0</td>\n",
       "      <td>1</td>\n",
       "      <td>0</td>\n",
       "      <td>0</td>\n",
       "    </tr>\n",
       "    <tr>\n",
       "      <th>2</th>\n",
       "      <td>2</td>\n",
       "      <td>1</td>\n",
       "      <td>is imperative that there are options for young...</td>\n",
       "      <td>2</td>\n",
       "      <td>1</td>\n",
       "      <td>0</td>\n",
       "      <td>0</td>\n",
       "      <td>0</td>\n",
       "    </tr>\n",
       "    <tr>\n",
       "      <th>3</th>\n",
       "      <td>3</td>\n",
       "      <td>1</td>\n",
       "      <td>lacks infrastructure in these areas.</td>\n",
       "      <td>1</td>\n",
       "      <td>0</td>\n",
       "      <td>0</td>\n",
       "      <td>0</td>\n",
       "      <td>1</td>\n",
       "    </tr>\n",
       "    <tr>\n",
       "      <th>4</th>\n",
       "      <td>4</td>\n",
       "      <td>1</td>\n",
       "      <td>would be good to see a shopping complex and la...</td>\n",
       "      <td>1</td>\n",
       "      <td>0</td>\n",
       "      <td>0</td>\n",
       "      <td>0</td>\n",
       "      <td>1</td>\n",
       "    </tr>\n",
       "  </tbody>\n",
       "</table>\n",
       "</div>"
      ],
      "text/plain": [
       "   index  comment number                                           sentence  \\\n",
       "0      0               1                its heading in the right direction.   \n",
       "1      1               1  completely understand there are time frames wo...   \n",
       "2      2               1  is imperative that there are options for young...   \n",
       "3      3               1               lacks infrastructure in these areas.   \n",
       "4      4               1  would be good to see a shopping complex and la...   \n",
       "\n",
       "   topic  Development  Transport  Surroundings  Hospitality  \n",
       "0      0            0          0             1            0  \n",
       "1      3            0          1             0            0  \n",
       "2      2            1          0             0            0  \n",
       "3      1            0          0             0            1  \n",
       "4      1            0          0             0            1  "
      ]
     },
     "execution_count": 20,
     "metadata": {},
     "output_type": "execute_result"
    }
   ],
   "source": [
    "data = pd.read_csv(\"results.csv\")\n",
    "data.head()"
   ]
  },
  {
   "cell_type": "code",
   "execution_count": 21,
   "metadata": {
    "colab": {
     "base_uri": "https://localhost:8080/",
     "height": 72
    },
    "colab_type": "code",
    "id": "L9LP9rLAXxP8",
    "outputId": "2a718ae1-3e2b-40dc-dfdf-bc92e86d2f0a"
   },
   "outputs": [
    {
     "name": "stderr",
     "output_type": "stream",
     "text": [
      "[nltk_data] Downloading package stopwords to\n",
      "[nltk_data]     C:\\Users\\zeina\\AppData\\Roaming\\nltk_data...\n",
      "[nltk_data]   Package stopwords is already up-to-date!\n"
     ]
    },
    {
     "data": {
      "text/plain": [
       "True"
      ]
     },
     "execution_count": 21,
     "metadata": {},
     "output_type": "execute_result"
    }
   ],
   "source": [
    "import nltk\n",
    "nltk.download('stopwords')"
   ]
  },
  {
   "cell_type": "code",
   "execution_count": 22,
   "metadata": {
    "colab": {
     "base_uri": "https://localhost:8080/",
     "height": 363
    },
    "colab_type": "code",
    "id": "K7Lh5QU4VyIU",
    "outputId": "73827ecb-75ca-473f-a297-541519e8b1d5"
   },
   "outputs": [
    {
     "data": {
      "text/html": [
       "<div>\n",
       "<style scoped>\n",
       "    .dataframe tbody tr th:only-of-type {\n",
       "        vertical-align: middle;\n",
       "    }\n",
       "\n",
       "    .dataframe tbody tr th {\n",
       "        vertical-align: top;\n",
       "    }\n",
       "\n",
       "    .dataframe thead th {\n",
       "        text-align: right;\n",
       "    }\n",
       "</style>\n",
       "<table border=\"1\" class=\"dataframe\">\n",
       "  <thead>\n",
       "    <tr style=\"text-align: right;\">\n",
       "      <th></th>\n",
       "      <th>index</th>\n",
       "      <th>comment number</th>\n",
       "      <th>sentence</th>\n",
       "      <th>topic</th>\n",
       "      <th>Development</th>\n",
       "      <th>Transport</th>\n",
       "      <th>Surroundings</th>\n",
       "      <th>Hospitality</th>\n",
       "    </tr>\n",
       "  </thead>\n",
       "  <tbody>\n",
       "    <tr>\n",
       "      <th>0</th>\n",
       "      <td>0</td>\n",
       "      <td>1</td>\n",
       "      <td>heading right direction.</td>\n",
       "      <td>0</td>\n",
       "      <td>0</td>\n",
       "      <td>0</td>\n",
       "      <td>1</td>\n",
       "      <td>0</td>\n",
       "    </tr>\n",
       "    <tr>\n",
       "      <th>1</th>\n",
       "      <td>1</td>\n",
       "      <td>1</td>\n",
       "      <td>completely understand time frames would like s...</td>\n",
       "      <td>3</td>\n",
       "      <td>0</td>\n",
       "      <td>1</td>\n",
       "      <td>0</td>\n",
       "      <td>0</td>\n",
       "    </tr>\n",
       "    <tr>\n",
       "      <th>2</th>\n",
       "      <td>2</td>\n",
       "      <td>1</td>\n",
       "      <td>imperative options young families shop dine mo...</td>\n",
       "      <td>2</td>\n",
       "      <td>1</td>\n",
       "      <td>0</td>\n",
       "      <td>0</td>\n",
       "      <td>0</td>\n",
       "    </tr>\n",
       "    <tr>\n",
       "      <th>3</th>\n",
       "      <td>3</td>\n",
       "      <td>1</td>\n",
       "      <td>lacks infrastructure areas.</td>\n",
       "      <td>1</td>\n",
       "      <td>0</td>\n",
       "      <td>0</td>\n",
       "      <td>0</td>\n",
       "      <td>1</td>\n",
       "    </tr>\n",
       "    <tr>\n",
       "      <th>4</th>\n",
       "      <td>4</td>\n",
       "      <td>1</td>\n",
       "      <td>would good see shopping complex lake parklands...</td>\n",
       "      <td>1</td>\n",
       "      <td>0</td>\n",
       "      <td>0</td>\n",
       "      <td>0</td>\n",
       "      <td>1</td>\n",
       "    </tr>\n",
       "    <tr>\n",
       "      <th>5</th>\n",
       "      <td>5</td>\n",
       "      <td>1</td>\n",
       "      <td>green space linked natural bushland setting.</td>\n",
       "      <td>2</td>\n",
       "      <td>1</td>\n",
       "      <td>0</td>\n",
       "      <td>0</td>\n",
       "      <td>0</td>\n",
       "    </tr>\n",
       "    <tr>\n",
       "      <th>6</th>\n",
       "      <td>6</td>\n",
       "      <td>1</td>\n",
       "      <td>much looking forward changes happen cant happe...</td>\n",
       "      <td>0</td>\n",
       "      <td>0</td>\n",
       "      <td>0</td>\n",
       "      <td>1</td>\n",
       "      <td>0</td>\n",
       "    </tr>\n",
       "    <tr>\n",
       "      <th>7</th>\n",
       "      <td>7</td>\n",
       "      <td>2</td>\n",
       "      <td>environment.</td>\n",
       "      <td>2</td>\n",
       "      <td>1</td>\n",
       "      <td>0</td>\n",
       "      <td>0</td>\n",
       "      <td>0</td>\n",
       "    </tr>\n",
       "    <tr>\n",
       "      <th>8</th>\n",
       "      <td>8</td>\n",
       "      <td>2</td>\n",
       "      <td>extremely small residential blocks narrow stre...</td>\n",
       "      <td>2</td>\n",
       "      <td>1</td>\n",
       "      <td>0</td>\n",
       "      <td>0</td>\n",
       "      <td>0</td>\n",
       "    </tr>\n",
       "    <tr>\n",
       "      <th>9</th>\n",
       "      <td>9</td>\n",
       "      <td>2</td>\n",
       "      <td>also full access road already burdened traffic...</td>\n",
       "      <td>0</td>\n",
       "      <td>0</td>\n",
       "      <td>0</td>\n",
       "      <td>1</td>\n",
       "      <td>0</td>\n",
       "    </tr>\n",
       "  </tbody>\n",
       "</table>\n",
       "</div>"
      ],
      "text/plain": [
       "   index  comment number                                           sentence  \\\n",
       "0      0               1                           heading right direction.   \n",
       "1      1               1  completely understand time frames would like s...   \n",
       "2      2               1  imperative options young families shop dine mo...   \n",
       "3      3               1                        lacks infrastructure areas.   \n",
       "4      4               1  would good see shopping complex lake parklands...   \n",
       "5      5               1       green space linked natural bushland setting.   \n",
       "6      6               1  much looking forward changes happen cant happe...   \n",
       "7      7               2                                       environment.   \n",
       "8      8               2  extremely small residential blocks narrow stre...   \n",
       "9      9               2  also full access road already burdened traffic...   \n",
       "\n",
       "   topic  Development  Transport  Surroundings  Hospitality  \n",
       "0      0            0          0             1            0  \n",
       "1      3            0          1             0            0  \n",
       "2      2            1          0             0            0  \n",
       "3      1            0          0             0            1  \n",
       "4      1            0          0             0            1  \n",
       "5      2            1          0             0            0  \n",
       "6      0            0          0             1            0  \n",
       "7      2            1          0             0            0  \n",
       "8      2            1          0             0            0  \n",
       "9      0            0          0             1            0  "
      ]
     },
     "execution_count": 22,
     "metadata": {},
     "output_type": "execute_result"
    }
   ],
   "source": [
    "stop = stopwords.words('english')\n",
    "data['sentence'] = data['sentence'].apply(lambda x: ' '.join([item for item in x.split() if item not in stop]))\n",
    "data.head(10)"
   ]
  },
  {
   "cell_type": "markdown",
   "metadata": {
    "colab_type": "text",
    "id": "M4aXgEl3VyIY"
   },
   "source": [
    "#### Create x and y for training the network"
   ]
  },
  {
   "cell_type": "code",
   "execution_count": 23,
   "metadata": {
    "colab": {},
    "colab_type": "code",
    "id": "8MDC7LMqVyIa"
   },
   "outputs": [],
   "source": [
    "x = data[\"sentence\"]\n",
    "y = data[[\"Development\", \"Transport\", \"Surroundings\", \"Hospitality\"]].values"
   ]
  },
  {
   "cell_type": "code",
   "execution_count": 24,
   "metadata": {
    "colab": {
     "base_uri": "https://localhost:8080/",
     "height": 35
    },
    "colab_type": "code",
    "id": "zHVhhLFVVyIe",
    "outputId": "db907daf-0d7f-47b6-a103-b72c77431910"
   },
   "outputs": [
    {
     "data": {
      "text/plain": [
       "array([461, 416, 667, 423], dtype=int64)"
      ]
     },
     "execution_count": 24,
     "metadata": {},
     "output_type": "execute_result"
    }
   ],
   "source": [
    "y.sum(axis = 0) # The number grouped by class label"
   ]
  },
  {
   "cell_type": "markdown",
   "metadata": {
    "colab_type": "text",
    "id": "Sr1EJpu2VyIj"
   },
   "source": [
    "#### split train and text data for training"
   ]
  },
  {
   "cell_type": "code",
   "execution_count": 25,
   "metadata": {
    "colab": {},
    "colab_type": "code",
    "id": "LmYQksAJVyIk"
   },
   "outputs": [],
   "source": [
    "from sklearn.model_selection import train_test_split\n",
    "\n",
    "x_train, x_test, y_train, y_test = train_test_split(x, y, test_size=0.15, random_state=17)"
   ]
  },
  {
   "cell_type": "markdown",
   "metadata": {
    "colab_type": "text",
    "id": "TyN8ohz4VyIo"
   },
   "source": [
    "#### Tokenize the words and pad sequences in order to unify length of sentences (Length of vocab is important)"
   ]
  },
  {
   "cell_type": "code",
   "execution_count": 26,
   "metadata": {
    "colab": {
     "base_uri": "https://localhost:8080/",
     "height": 35
    },
    "colab_type": "code",
    "id": "kDljLc80VyIp",
    "outputId": "a0a98f83-1252-415a-aac4-adf6b3cb35b6"
   },
   "outputs": [
    {
     "data": {
      "text/plain": [
       "3205"
      ]
     },
     "execution_count": 26,
     "metadata": {},
     "output_type": "execute_result"
    }
   ],
   "source": [
    "tokenizer = Tokenizer(num_words=5000)\n",
    "tokenizer.fit_on_texts(x_train)\n",
    "\n",
    "x_train = tokenizer.texts_to_sequences(x_train)\n",
    "x_test = tokenizer.texts_to_sequences(x_test)\n",
    "\n",
    "vocab_size = len(tokenizer.word_index) + 1\n",
    "vocab_size"
   ]
  },
  {
   "cell_type": "markdown",
   "metadata": {
    "colab_type": "text",
    "id": "eYh80H21VyIu"
   },
   "source": [
    "#### Define length of each word! This way is good for obtaining sentiment from words"
   ]
  },
  {
   "cell_type": "code",
   "execution_count": 27,
   "metadata": {
    "colab": {},
    "colab_type": "code",
    "id": "kQ_WpgbOVyIv"
   },
   "outputs": [],
   "source": [
    "maxlen = 300\n",
    "x_train = pad_sequences(x_train, padding='post', maxlen=maxlen)\n",
    "x_test = pad_sequences(x_test, padding='post', maxlen=maxlen)"
   ]
  },
  {
   "cell_type": "markdown",
   "metadata": {
    "colab_type": "text",
    "id": "jkEdEdysVyI1"
   },
   "source": [
    "# Create neural network model"
   ]
  },
  {
   "cell_type": "code",
   "execution_count": 28,
   "metadata": {
    "colab": {
     "base_uri": "https://localhost:8080/",
     "height": 344
    },
    "colab_type": "code",
    "id": "Uz_iv-9XVyI1",
    "outputId": "058faba6-04fc-4569-85d7-61a5c6e01eeb"
   },
   "outputs": [
    {
     "name": "stdout",
     "output_type": "stream",
     "text": [
      "Model: \"sequential_1\"\n",
      "_________________________________________________________________\n",
      "Layer (type)                 Output Shape              Param #   \n",
      "=================================================================\n",
      "embedding_1 (Embedding)      (None, 300, 300)          961500    \n",
      "_________________________________________________________________\n",
      "global_average_pooling1d_1 ( (None, 300)               0         \n",
      "_________________________________________________________________\n",
      "dense_1 (Dense)              (None, 1024)              308224    \n",
      "_________________________________________________________________\n",
      "dropout_1 (Dropout)          (None, 1024)              0         \n",
      "_________________________________________________________________\n",
      "dense_2 (Dense)              (None, 4)                 4100      \n",
      "=================================================================\n",
      "Total params: 1,273,824\n",
      "Trainable params: 1,273,824\n",
      "Non-trainable params: 0\n",
      "_________________________________________________________________\n"
     ]
    }
   ],
   "source": [
    "import keras\n",
    "from keras.models import Sequential\n",
    "from keras.layers import Dense, Embedding, GlobalMaxPool1D, Dropout, Conv1D, GlobalAveragePooling1D\n",
    "from keras.optimizers import SGD, Adam\n",
    "\n",
    "model = Sequential()\n",
    "model.add(Embedding(input_dim = vocab_size, output_dim = 300, input_length=maxlen))\n",
    "model.add(GlobalAveragePooling1D())\n",
    "model.add(Dense(1024, activation='relu'))\n",
    "model.add(Dropout(0.5))\n",
    "model.add(Dense(4, activation='softmax'))\n",
    "\n",
    "model.summary()"
   ]
  },
  {
   "cell_type": "markdown",
   "metadata": {
    "colab_type": "text",
    "id": "L09xSjs-VyI6"
   },
   "source": [
    "#### We need to compile the model before training\n",
    "This model can reduce learning rate to prevent jumps over local extremes.\n",
    "Check point enables the program to save the best model based on accuracy."
   ]
  },
  {
   "cell_type": "code",
   "execution_count": 29,
   "metadata": {
    "colab": {},
    "colab_type": "code",
    "id": "APleGzbEVyI6"
   },
   "outputs": [],
   "source": [
    "model.compile(optimizer=Adam(0.001), loss='categorical_crossentropy', metrics=['categorical_accuracy'])\n",
    "from keras.callbacks import ReduceLROnPlateau, ModelCheckpoint\n",
    "rlcp = [ReduceLROnPlateau(monitor='val_loss', factor=0.5, mode = 'min',patience=5, verbose=1, min_lr=0.00001)]"
   ]
  },
  {
   "cell_type": "markdown",
   "metadata": {
    "colab_type": "text",
    "id": "ioXXo9GwVyI-"
   },
   "source": [
    "#### Train the model"
   ]
  },
  {
   "cell_type": "code",
   "execution_count": 30,
   "metadata": {
    "colab": {
     "base_uri": "https://localhost:8080/",
     "height": 800
    },
    "colab_type": "code",
    "id": "aaSgjfPAVyI_",
    "outputId": "8a3c6249-e420-42f2-b335-3fd913bc6af6"
   },
   "outputs": [
    {
     "name": "stdout",
     "output_type": "stream",
     "text": [
      "Train on 1671 samples, validate on 296 samples\n",
      "Epoch 1/20\n",
      "1671/1671 [==============================] - 1s 725us/step - loss: 1.3715 - categorical_accuracy: 0.3285 - val_loss: 1.3716 - val_categorical_accuracy: 0.3277\n",
      "Epoch 2/20\n",
      "1671/1671 [==============================] - 1s 654us/step - loss: 1.3655 - categorical_accuracy: 0.3411 - val_loss: 1.3696 - val_categorical_accuracy: 0.3277\n",
      "Epoch 3/20\n",
      "1671/1671 [==============================] - 1s 672us/step - loss: 1.3630 - categorical_accuracy: 0.3411 - val_loss: 1.3680 - val_categorical_accuracy: 0.3277\n",
      "Epoch 4/20\n",
      "1671/1671 [==============================] - ETA: 0s - loss: 1.3608 - categorical_accuracy: 0.34 - 1s 663us/step - loss: 1.3608 - categorical_accuracy: 0.3411 - val_loss: 1.3640 - val_categorical_accuracy: 0.3277\n",
      "Epoch 5/20\n",
      "1671/1671 [==============================] - 1s 679us/step - loss: 1.3528 - categorical_accuracy: 0.3417 - val_loss: 1.3548 - val_categorical_accuracy: 0.3277\n",
      "Epoch 6/20\n",
      "1671/1671 [==============================] - 1s 655us/step - loss: 1.3218 - categorical_accuracy: 0.3645 - val_loss: 1.3101 - val_categorical_accuracy: 0.3581\n",
      "Epoch 7/20\n",
      "1671/1671 [==============================] - 1s 681us/step - loss: 1.1964 - categorical_accuracy: 0.4895 - val_loss: 1.1891 - val_categorical_accuracy: 0.5068\n",
      "Epoch 8/20\n",
      "1671/1671 [==============================] - 1s 694us/step - loss: 1.0010 - categorical_accuracy: 0.6104 - val_loss: 1.1422 - val_categorical_accuracy: 0.5000\n",
      "Epoch 9/20\n",
      "1671/1671 [==============================] - 1s 671us/step - loss: 0.7698 - categorical_accuracy: 0.7768 - val_loss: 0.9349 - val_categorical_accuracy: 0.6655\n",
      "Epoch 10/20\n",
      "1671/1671 [==============================] - 1s 709us/step - loss: 0.5272 - categorical_accuracy: 0.8725 - val_loss: 0.7985 - val_categorical_accuracy: 0.7162\n",
      "Epoch 11/20\n",
      "1671/1671 [==============================] - 1s 676us/step - loss: 0.3857 - categorical_accuracy: 0.9042 - val_loss: 0.7313 - val_categorical_accuracy: 0.7128\n",
      "Epoch 12/20\n",
      "1671/1671 [==============================] - 1s 668us/step - loss: 0.2741 - categorical_accuracy: 0.9324 - val_loss: 0.6765 - val_categorical_accuracy: 0.7703\n",
      "Epoch 13/20\n",
      "1671/1671 [==============================] - 1s 686us/step - loss: 0.2011 - categorical_accuracy: 0.9587 - val_loss: 0.6616 - val_categorical_accuracy: 0.7770\n",
      "Epoch 14/20\n",
      "1671/1671 [==============================] - 1s 718us/step - loss: 0.1693 - categorical_accuracy: 0.9617 - val_loss: 0.6349 - val_categorical_accuracy: 0.7703\n",
      "Epoch 15/20\n",
      "1671/1671 [==============================] - 1s 682us/step - loss: 0.1629 - categorical_accuracy: 0.9545 - val_loss: 0.6593 - val_categorical_accuracy: 0.7804\n",
      "Epoch 16/20\n",
      "1671/1671 [==============================] - 1s 726us/step - loss: 0.0997 - categorical_accuracy: 0.9814 - val_loss: 0.6474 - val_categorical_accuracy: 0.7770\n",
      "Epoch 17/20\n",
      "1671/1671 [==============================] - 1s 688us/step - loss: 0.0840 - categorical_accuracy: 0.9838 - val_loss: 0.6578 - val_categorical_accuracy: 0.7736\n",
      "Epoch 18/20\n",
      "1671/1671 [==============================] - 1s 659us/step - loss: 0.0690 - categorical_accuracy: 0.9862 - val_loss: 0.6519 - val_categorical_accuracy: 0.7736\n",
      "Epoch 19/20\n",
      "1671/1671 [==============================] - 1s 667us/step - loss: 0.0704 - categorical_accuracy: 0.9856 - val_loss: 0.7968 - val_categorical_accuracy: 0.7264\n",
      "\n",
      "Epoch 00019: ReduceLROnPlateau reducing learning rate to 0.0005000000237487257.\n",
      "Epoch 20/20\n",
      "1671/1671 [==============================] - 1s 663us/step - loss: 0.0561 - categorical_accuracy: 0.9904 - val_loss: 0.6717 - val_categorical_accuracy: 0.8007\n"
     ]
    },
    {
     "data": {
      "text/plain": [
       "<keras.callbacks.callbacks.History at 0x1a2e555d6a0>"
      ]
     },
     "execution_count": 30,
     "metadata": {},
     "output_type": "execute_result"
    }
   ],
   "source": [
    "model.fit(x_train, y_train,\n",
    "                    epochs=20,\n",
    "                    batch_size=32,\n",
    "                    validation_data=(x_test, y_test),\n",
    "                    shuffle=True,\n",
    "                    callbacks = rlcp)"
   ]
  },
  {
   "cell_type": "code",
   "execution_count": 31,
   "metadata": {
    "colab": {
     "base_uri": "https://localhost:8080/",
     "height": 297
    },
    "colab_type": "code",
    "id": "cnNP2bLoVyJD",
    "outputId": "fe2a20df-90df-4b4a-c8ed-d48e8ff26de8"
   },
   "outputs": [
    {
     "data": {
      "image/png": "[encoded data removed]",
      "text/plain": [
       "<Figure size 432x288 with 1 Axes>"
      ]
     },
     "metadata": {
      "needs_background": "light"
     },
     "output_type": "display_data"
    }
   ],
   "source": [
    "import matplotlib.pyplot as plt\n",
    "\n",
    "tr_acc = model.history.history['categorical_accuracy']\n",
    "val_acc = model.history.history['val_categorical_accuracy']\n",
    "tr_loss = model.history.history['loss']\n",
    "tr_loss = tr_loss/np.array(tr_loss).max()\n",
    "val_loss = model.history.history['val_loss']/np.array(tr_loss).max()\n",
    "\n",
    "\n",
    "\n",
    "#plt.plot(tr_loss, label = \"train loss\")\n",
    "#plt.plot(val_loss, label = \"validation loss\")\n",
    "plt.plot(tr_acc, label = \"train accuracy\")\n",
    "plt.plot(val_acc, label = \"validation accuracy\")\n",
    "plt.xlabel('epoch')\n",
    "plt.savefig('trainval_acc.png')"
   ]
  },
  {
   "cell_type": "code",
   "execution_count": 32,
   "metadata": {
    "colab": {},
    "colab_type": "code",
    "id": "rElCoNu5VyJI"
   },
   "outputs": [],
   "source": [
    "from keras.models import load_model\n",
    "model.save(\"sentence_classificatio.h5\")\n",
    "model = load_model(\"sentence_classificatio.h5\")"
   ]
  },
  {
   "cell_type": "markdown",
   "metadata": {
    "colab_type": "text",
    "id": "YLWiz48NVyJL"
   },
   "source": [
    "# Prediction on new data"
   ]
  },
  {
   "cell_type": "code",
   "execution_count": 33,
   "metadata": {
    "colab": {},
    "colab_type": "code",
    "id": "Ei2h92_cVyJL"
   },
   "outputs": [],
   "source": [
    "# Function to read csv\n",
    "def read_mycsv(path):\n",
    "    with open(path, 'rb') as f:\n",
    "        result = chardet.detect(f.read())\n",
    "    return pd.read_csv(path, encoding=result['encoding'])"
   ]
  },
  {
   "cell_type": "code",
   "execution_count": 34,
   "metadata": {
    "colab": {
     "base_uri": "https://localhost:8080/",
     "height": 206
    },
    "colab_type": "code",
    "id": "B3QtWvmjVyJQ",
    "outputId": "d2f5a4fc-ba22-4206-99d3-565ff62dec58"
   },
   "outputs": [
    {
     "data": {
      "text/html": [
       "<div>\n",
       "<style scoped>\n",
       "    .dataframe tbody tr th:only-of-type {\n",
       "        vertical-align: middle;\n",
       "    }\n",
       "\n",
       "    .dataframe tbody tr th {\n",
       "        vertical-align: top;\n",
       "    }\n",
       "\n",
       "    .dataframe thead th {\n",
       "        text-align: right;\n",
       "    }\n",
       "</style>\n",
       "<table border=\"1\" class=\"dataframe\">\n",
       "  <thead>\n",
       "    <tr style=\"text-align: right;\">\n",
       "      <th></th>\n",
       "      <th>Original text</th>\n",
       "    </tr>\n",
       "  </thead>\n",
       "  <tbody>\n",
       "    <tr>\n",
       "      <th>0</th>\n",
       "      <td>I strongly against the plan of building 5 stor...</td>\n",
       "    </tr>\n",
       "    <tr>\n",
       "      <th>1</th>\n",
       "      <td>\"believe there are a number of issues that nee...</td>\n",
       "    </tr>\n",
       "    <tr>\n",
       "      <th>2</th>\n",
       "      <td>a resident of and a frequent traveller on the...</td>\n",
       "    </tr>\n",
       "    <tr>\n",
       "      <th>3</th>\n",
       "      <td>I have just built a new home in Road, Kedron. ...</td>\n",
       "    </tr>\n",
       "    <tr>\n",
       "      <th>4</th>\n",
       "      <td>I would like to express my concerns with the p...</td>\n",
       "    </tr>\n",
       "  </tbody>\n",
       "</table>\n",
       "</div>"
      ],
      "text/plain": [
       "                                       Original text\n",
       "0  I strongly against the plan of building 5 stor...\n",
       "1  \"believe there are a number of issues that nee...\n",
       "2   a resident of and a frequent traveller on the...\n",
       "3  I have just built a new home in Road, Kedron. ...\n",
       "4  I would like to express my concerns with the p..."
      ]
     },
     "execution_count": 34,
     "metadata": {},
     "output_type": "execute_result"
    }
   ],
   "source": [
    "text = read_mycsv(\"text.csv\")\n",
    "text.head()"
   ]
  },
  {
   "cell_type": "markdown",
   "metadata": {
    "colab_type": "text",
    "id": "qLc99rSiVyJT"
   },
   "source": [
    "#### Preprocess the text in the column named \"comment\""
   ]
  },
  {
   "cell_type": "code",
   "execution_count": 35,
   "metadata": {
    "colab": {
     "base_uri": "https://localhost:8080/",
     "height": 206
    },
    "colab_type": "code",
    "id": "BDN81vVaVyJU",
    "outputId": "ae414e22-5578-436b-962d-f340051e3727"
   },
   "outputs": [
    {
     "data": {
      "text/html": [
       "<div>\n",
       "<style scoped>\n",
       "    .dataframe tbody tr th:only-of-type {\n",
       "        vertical-align: middle;\n",
       "    }\n",
       "\n",
       "    .dataframe tbody tr th {\n",
       "        vertical-align: top;\n",
       "    }\n",
       "\n",
       "    .dataframe thead th {\n",
       "        text-align: right;\n",
       "    }\n",
       "</style>\n",
       "<table border=\"1\" class=\"dataframe\">\n",
       "  <thead>\n",
       "    <tr style=\"text-align: right;\">\n",
       "      <th></th>\n",
       "      <th>comment</th>\n",
       "      <th>cleaned_text</th>\n",
       "    </tr>\n",
       "  </thead>\n",
       "  <tbody>\n",
       "    <tr>\n",
       "      <th>0</th>\n",
       "      <td>I strongly against the plan of building 5 stor...</td>\n",
       "      <td>i strongly against the plan of building 5 stor...</td>\n",
       "    </tr>\n",
       "    <tr>\n",
       "      <th>1</th>\n",
       "      <td>\"believe there are a number of issues that nee...</td>\n",
       "      <td>believe there are a number of issues that nee...</td>\n",
       "    </tr>\n",
       "    <tr>\n",
       "      <th>2</th>\n",
       "      <td>a resident of and a frequent traveller on the...</td>\n",
       "      <td>a resident of and a frequent traveller on the...</td>\n",
       "    </tr>\n",
       "    <tr>\n",
       "      <th>3</th>\n",
       "      <td>I have just built a new home in Road, Kedron. ...</td>\n",
       "      <td>i have just built a new home in road kedron. b...</td>\n",
       "    </tr>\n",
       "    <tr>\n",
       "      <th>4</th>\n",
       "      <td>I would like to express my concerns with the p...</td>\n",
       "      <td>i would like to express my concerns with the p...</td>\n",
       "    </tr>\n",
       "  </tbody>\n",
       "</table>\n",
       "</div>"
      ],
      "text/plain": [
       "                                             comment  \\\n",
       "0  I strongly against the plan of building 5 stor...   \n",
       "1  \"believe there are a number of issues that nee...   \n",
       "2   a resident of and a frequent traveller on the...   \n",
       "3  I have just built a new home in Road, Kedron. ...   \n",
       "4  I would like to express my concerns with the p...   \n",
       "\n",
       "                                        cleaned_text  \n",
       "0  i strongly against the plan of building 5 stor...  \n",
       "1   believe there are a number of issues that nee...  \n",
       "2   a resident of and a frequent traveller on the...  \n",
       "3  i have just built a new home in road kedron. b...  \n",
       "4  i would like to express my concerns with the p...  "
      ]
     },
     "execution_count": 35,
     "metadata": {},
     "output_type": "execute_result"
    }
   ],
   "source": [
    "text.columns = [\"comment\"]\n",
    "text.dropna(inplace = True)\n",
    "text.reset_index(inplace = True, drop = True)\n",
    "text[\"cleaned_text\"] = text[\"comment\"].apply(lambda x: clean_text(x))\n",
    "text.head()"
   ]
  },
  {
   "cell_type": "markdown",
   "metadata": {
    "colab_type": "text",
    "id": "oX9Vygj5VyJY"
   },
   "source": [
    "#### extract all sentences from each cleaned text"
   ]
  },
  {
   "cell_type": "code",
   "execution_count": 36,
   "metadata": {
    "colab": {},
    "colab_type": "code",
    "id": "K28bpeV0VyJb"
   },
   "outputs": [],
   "source": [
    "def sentence_segmentation(text):\n",
    "    final = []\n",
    "    for i in range(len(text[\"cleaned_text\"])):\n",
    "        doc = nlp(text[\"cleaned_text\"][i])\n",
    "        for sent in doc.sents:\n",
    "            content = [None,None].copy()\n",
    "            content[0] = i+1\n",
    "            content[1] = sent.text\n",
    "            final.append(content)\n",
    "    data = pd.DataFrame(final)\n",
    "    data.columns = [\"comment number\", \"sentence\"]\n",
    "    return data"
   ]
  },
  {
   "cell_type": "code",
   "execution_count": 37,
   "metadata": {
    "colab": {
     "base_uri": "https://localhost:8080/",
     "height": 363
    },
    "colab_type": "code",
    "id": "R1GZ7mWiVyJf",
    "outputId": "ea2973ea-3c0a-4e46-af12-5d9172f27e62"
   },
   "outputs": [
    {
     "data": {
      "text/html": [
       "<div>\n",
       "<style scoped>\n",
       "    .dataframe tbody tr th:only-of-type {\n",
       "        vertical-align: middle;\n",
       "    }\n",
       "\n",
       "    .dataframe tbody tr th {\n",
       "        vertical-align: top;\n",
       "    }\n",
       "\n",
       "    .dataframe thead th {\n",
       "        text-align: right;\n",
       "    }\n",
       "</style>\n",
       "<table border=\"1\" class=\"dataframe\">\n",
       "  <thead>\n",
       "    <tr style=\"text-align: right;\">\n",
       "      <th></th>\n",
       "      <th>comment number</th>\n",
       "      <th>sentence</th>\n",
       "      <th>cleaned_sentence</th>\n",
       "    </tr>\n",
       "  </thead>\n",
       "  <tbody>\n",
       "    <tr>\n",
       "      <th>0</th>\n",
       "      <td>1</td>\n",
       "      <td>i strongly against the plan of building 5 stor...</td>\n",
       "      <td>strongly plan building 5 storeys units denman ...</td>\n",
       "    </tr>\n",
       "    <tr>\n",
       "      <th>1</th>\n",
       "      <td>1</td>\n",
       "      <td>abound the hospital has already full of units ...</td>\n",
       "      <td>abound hospital already full units townhouses.</td>\n",
       "    </tr>\n",
       "    <tr>\n",
       "      <th>2</th>\n",
       "      <td>1</td>\n",
       "      <td>i am very concerned about the parking problem ...</td>\n",
       "      <td>concerned parking problem already complained p...</td>\n",
       "    </tr>\n",
       "    <tr>\n",
       "      <th>3</th>\n",
       "      <td>1</td>\n",
       "      <td>addition 5 storey building with ruin the overa...</td>\n",
       "      <td>addition 5 storey building ruin overall look b...</td>\n",
       "    </tr>\n",
       "    <tr>\n",
       "      <th>4</th>\n",
       "      <td>1</td>\n",
       "      <td>but not least i can t see any point of having ...</td>\n",
       "      <td>least see point residential buildings around h...</td>\n",
       "    </tr>\n",
       "    <tr>\n",
       "      <th>5</th>\n",
       "      <td>2</td>\n",
       "      <td>believe there are a number of issues that nee...</td>\n",
       "      <td>believe number issues need addressed developme...</td>\n",
       "    </tr>\n",
       "    <tr>\n",
       "      <th>6</th>\n",
       "      <td>2</td>\n",
       "      <td>d is located immediately to the west and south...</td>\n",
       "      <td>located immediately west south north.</td>\n",
       "    </tr>\n",
       "    <tr>\n",
       "      <th>7</th>\n",
       "      <td>2</td>\n",
       "      <td>subdivision pressures coming from the north east.</td>\n",
       "      <td>subdivision pressures coming north east.</td>\n",
       "    </tr>\n",
       "    <tr>\n",
       "      <th>8</th>\n",
       "      <td>2</td>\n",
       "      <td>2 is identified within footprint although at t...</td>\n",
       "      <td>2 identified within footprint although local p...</td>\n",
       "    </tr>\n",
       "    <tr>\n",
       "      <th>9</th>\n",
       "      <td>2</td>\n",
       "      <td>zoned rural and special facilities have signif...</td>\n",
       "      <td>zoned rural special facilities significant val...</td>\n",
       "    </tr>\n",
       "  </tbody>\n",
       "</table>\n",
       "</div>"
      ],
      "text/plain": [
       "   comment number                                           sentence  \\\n",
       "0               1  i strongly against the plan of building 5 stor...   \n",
       "1               1  abound the hospital has already full of units ...   \n",
       "2               1  i am very concerned about the parking problem ...   \n",
       "3               1  addition 5 storey building with ruin the overa...   \n",
       "4               1  but not least i can t see any point of having ...   \n",
       "5               2   believe there are a number of issues that nee...   \n",
       "6               2  d is located immediately to the west and south...   \n",
       "7               2  subdivision pressures coming from the north east.   \n",
       "8               2  2 is identified within footprint although at t...   \n",
       "9               2  zoned rural and special facilities have signif...   \n",
       "\n",
       "                                    cleaned_sentence  \n",
       "0  strongly plan building 5 storeys units denman ...  \n",
       "1     abound hospital already full units townhouses.  \n",
       "2  concerned parking problem already complained p...  \n",
       "3  addition 5 storey building ruin overall look b...  \n",
       "4  least see point residential buildings around h...  \n",
       "5  believe number issues need addressed developme...  \n",
       "6              located immediately west south north.  \n",
       "7           subdivision pressures coming north east.  \n",
       "8  2 identified within footprint although local p...  \n",
       "9  zoned rural special facilities significant val...  "
      ]
     },
     "execution_count": 37,
     "metadata": {},
     "output_type": "execute_result"
    }
   ],
   "source": [
    "# We should remove stop words too.\n",
    "data = sentence_segmentation(text)\n",
    "stop = stopwords.words('english')\n",
    "data['cleaned_sentence'] = data['sentence'].apply(lambda x: ' '.join([item for item in x.split() if item not in stop]))\n",
    "data.head(10)"
   ]
  },
  {
   "cell_type": "markdown",
   "metadata": {
    "colab_type": "text",
    "id": "1Xu0MPonVyJj"
   },
   "source": [
    "#### Tokenize sentences and prepare them to input to the model"
   ]
  },
  {
   "cell_type": "code",
   "execution_count": 38,
   "metadata": {
    "colab": {},
    "colab_type": "code",
    "id": "OWuSoFQFVyJk"
   },
   "outputs": [],
   "source": [
    "x = data[\"cleaned_sentence\"]\n",
    "x = tokenizer.texts_to_sequences(x)\n",
    "x = pad_sequences(x, padding='post', maxlen=maxlen)\n",
    "pred = model.predict(x)\n",
    "pred = pd.DataFrame(np.round(pred), columns = [\"Development\", \"Transport\", \"Surroundings\", \"Hospitality\"])\n",
    "pred[\"sentence\"] = data[\"sentence\"]\n",
    "pred[\"comment ID\"] = data[\"comment number\"]"
   ]
  },
  {
   "cell_type": "markdown",
   "metadata": {
    "colab_type": "text",
    "id": "qcbGLijjVyJn"
   },
   "source": [
    "#### Group the sentences if they are from the same comment with same category"
   ]
  },
  {
   "cell_type": "code",
   "execution_count": 39,
   "metadata": {
    "colab": {
     "base_uri": "https://localhost:8080/",
     "height": 363
    },
    "colab_type": "code",
    "id": "6mMYn4JfVyJo",
    "outputId": "0b65a402-2f06-4dbb-dffd-866688f03cce"
   },
   "outputs": [
    {
     "data": {
      "text/html": [
       "<div>\n",
       "<style scoped>\n",
       "    .dataframe tbody tr th:only-of-type {\n",
       "        vertical-align: middle;\n",
       "    }\n",
       "\n",
       "    .dataframe tbody tr th {\n",
       "        vertical-align: top;\n",
       "    }\n",
       "\n",
       "    .dataframe thead th {\n",
       "        text-align: right;\n",
       "    }\n",
       "</style>\n",
       "<table border=\"1\" class=\"dataframe\">\n",
       "  <thead>\n",
       "    <tr style=\"text-align: right;\">\n",
       "      <th></th>\n",
       "      <th>comment ID</th>\n",
       "      <th>Development</th>\n",
       "      <th>Transport</th>\n",
       "      <th>Surroundings</th>\n",
       "      <th>Hospitality</th>\n",
       "      <th>sentence</th>\n",
       "    </tr>\n",
       "  </thead>\n",
       "  <tbody>\n",
       "    <tr>\n",
       "      <th>0</th>\n",
       "      <td>1</td>\n",
       "      <td>0.0</td>\n",
       "      <td>0.0</td>\n",
       "      <td>0.0</td>\n",
       "      <td>0.0</td>\n",
       "      <td>i am very concerned about the parking problem ...</td>\n",
       "    </tr>\n",
       "    <tr>\n",
       "      <th>1</th>\n",
       "      <td>1</td>\n",
       "      <td>0.0</td>\n",
       "      <td>0.0</td>\n",
       "      <td>1.0</td>\n",
       "      <td>0.0</td>\n",
       "      <td>i strongly against the plan of building 5 stor...</td>\n",
       "    </tr>\n",
       "    <tr>\n",
       "      <th>2</th>\n",
       "      <td>1</td>\n",
       "      <td>0.0</td>\n",
       "      <td>1.0</td>\n",
       "      <td>0.0</td>\n",
       "      <td>0.0</td>\n",
       "      <td>but not least i can t see any point of having ...</td>\n",
       "    </tr>\n",
       "    <tr>\n",
       "      <th>3</th>\n",
       "      <td>1</td>\n",
       "      <td>1.0</td>\n",
       "      <td>0.0</td>\n",
       "      <td>0.0</td>\n",
       "      <td>0.0</td>\n",
       "      <td>addition 5 storey building with ruin the overa...</td>\n",
       "    </tr>\n",
       "    <tr>\n",
       "      <th>4</th>\n",
       "      <td>2</td>\n",
       "      <td>0.0</td>\n",
       "      <td>0.0</td>\n",
       "      <td>0.0</td>\n",
       "      <td>0.0</td>\n",
       "      <td>is in the upper catchment sediment entering th...</td>\n",
       "    </tr>\n",
       "    <tr>\n",
       "      <th>5</th>\n",
       "      <td>2</td>\n",
       "      <td>0.0</td>\n",
       "      <td>0.0</td>\n",
       "      <td>0.0</td>\n",
       "      <td>1.0</td>\n",
       "      <td>corridors are essential in maintaining brisban...</td>\n",
       "    </tr>\n",
       "    <tr>\n",
       "      <th>6</th>\n",
       "      <td>2</td>\n",
       "      <td>0.0</td>\n",
       "      <td>0.0</td>\n",
       "      <td>1.0</td>\n",
       "      <td>0.0</td>\n",
       "      <td>zoned rural and special facilities have signif...</td>\n",
       "    </tr>\n",
       "    <tr>\n",
       "      <th>7</th>\n",
       "      <td>2</td>\n",
       "      <td>0.0</td>\n",
       "      <td>1.0</td>\n",
       "      <td>0.0</td>\n",
       "      <td>0.0</td>\n",
       "      <td>believe there are a number of issues that nee...</td>\n",
       "    </tr>\n",
       "    <tr>\n",
       "      <th>8</th>\n",
       "      <td>2</td>\n",
       "      <td>1.0</td>\n",
       "      <td>0.0</td>\n",
       "      <td>0.0</td>\n",
       "      <td>0.0</td>\n",
       "      <td>d is located immediately to the west and south...</td>\n",
       "    </tr>\n",
       "    <tr>\n",
       "      <th>9</th>\n",
       "      <td>3</td>\n",
       "      <td>0.0</td>\n",
       "      <td>0.0</td>\n",
       "      <td>0.0</td>\n",
       "      <td>1.0</td>\n",
       "      <td>m concerned to note that not provision has bee...</td>\n",
       "    </tr>\n",
       "  </tbody>\n",
       "</table>\n",
       "</div>"
      ],
      "text/plain": [
       "   comment ID  Development  Transport  Surroundings  Hospitality  \\\n",
       "0           1          0.0        0.0           0.0          0.0   \n",
       "1           1          0.0        0.0           1.0          0.0   \n",
       "2           1          0.0        1.0           0.0          0.0   \n",
       "3           1          1.0        0.0           0.0          0.0   \n",
       "4           2          0.0        0.0           0.0          0.0   \n",
       "5           2          0.0        0.0           0.0          1.0   \n",
       "6           2          0.0        0.0           1.0          0.0   \n",
       "7           2          0.0        1.0           0.0          0.0   \n",
       "8           2          1.0        0.0           0.0          0.0   \n",
       "9           3          0.0        0.0           0.0          1.0   \n",
       "\n",
       "                                            sentence  \n",
       "0  i am very concerned about the parking problem ...  \n",
       "1  i strongly against the plan of building 5 stor...  \n",
       "2  but not least i can t see any point of having ...  \n",
       "3  addition 5 storey building with ruin the overa...  \n",
       "4  is in the upper catchment sediment entering th...  \n",
       "5  corridors are essential in maintaining brisban...  \n",
       "6  zoned rural and special facilities have signif...  \n",
       "7   believe there are a number of issues that nee...  \n",
       "8  d is located immediately to the west and south...  \n",
       "9  m concerned to note that not provision has bee...  "
      ]
     },
     "execution_count": 39,
     "metadata": {},
     "output_type": "execute_result"
    }
   ],
   "source": [
    "pred2 = pred.groupby(['comment ID', \"Development\", \"Transport\", \"Surroundings\", \"Hospitality\"])['sentence'].apply(lambda x: ' '.join(x)).reset_index()\n",
    "pred2.head(10)"
   ]
  },
  {
   "cell_type": "code",
   "execution_count": 40,
   "metadata": {
    "colab": {},
    "colab_type": "code",
    "id": "ow111FsEVyJr"
   },
   "outputs": [],
   "source": [
    "pred2.to_csv(\"final_results_groupby_IDandLABEL.csv\", index = False)"
   ]
  },
  {
   "cell_type": "code",
   "execution_count": 41,
   "metadata": {
    "colab": {},
    "colab_type": "code",
    "id": "wxtZPeCqVyJv"
   },
   "outputs": [],
   "source": [
    "pred2.to_excel('finalResult1.xlsx', sheet_name='Topic Comments', index=False)"
   ]
  }
 ],
 "metadata": {
  "colab": {
   "name": "LDA_NN_topic_modeling_Final_res.ipynb",
   "provenance": [],
   "toc_visible": true
  },
  "kernelspec": {
   "display_name": "Python 3",
   "language": "python",
   "name": "python3"
  },
  "language_info": {
   "codemirror_mode": {
    "name": "ipython",
    "version": 3
   },
   "file_extension": ".py",
   "mimetype": "text/x-python",
   "name": "python",
   "nbconvert_exporter": "python",
   "pygments_lexer": "ipython3",
   "version": "3.7.3"
  }
 },
 "nbformat": 4,
 "nbformat_minor": 1
}
